{
  "nbformat": 4,
  "nbformat_minor": 0,
  "metadata": {
    "colab": {
      "provenance": []
    },
    "kernelspec": {
      "name": "python3",
      "display_name": "Python 3"
    },
    "language_info": {
      "name": "python"
    }
  },
  "cells": [
    {
      "cell_type": "markdown",
      "source": [
        "In the simulated input data set, there are 286 events (observations), each with type of location, location capacity, state, average ticket price, attendance (number of participants per event). The goal of this analyses is to predict revenue per based on the features.\n",
        "\n",
        "The simulated input data contains the following fields.\n",
        "* event_id\n",
        "* artist_id\n",
        "* location_id\n",
        "* start_date\n",
        "* attendance\n",
        "* average_ticket_price\n",
        "\n",
        "The location_id column encodes additional information about the locations in the ID itself, following one of two schemas.\n",
        "* LOC-[Type][Capacity][State]-[ID]\n",
        "* LOC-[Type][Capacity][State]-[Ownership Flag]-[ID]\n",
        "For example, the location ID LOC-Arena20000FL-8521e4fd-672c represents a non-client owned Arena with a capacity of 20000 in Florida, while the location ID LOC-Arena100000CA-Own-8521e4fd-672c represents as a client owned Arena with a capacity of 100000 in California.\n",
        "\n",
        "The rows with null values are deleted in the following section."
      ],
      "metadata": {
        "id": "BbvmNEquF0ai"
      }
    },
    {
      "cell_type": "code",
      "execution_count": 1,
      "metadata": {
        "colab": {
          "base_uri": "https://localhost:8080/"
        },
        "id": "GW1bPXtBFnEW",
        "outputId": "48003765-d452-4dc8-af3c-759367a9672c"
      },
      "outputs": [
        {
          "output_type": "stream",
          "name": "stdout",
          "text": [
            "            event_id          artist_id                         location_id  \\\n",
            "0  EVT-3adca30d-b5ea  ART-4de1a19c-0779      LOC-Arena16800OH-621a3f60-24c0   \n",
            "1  EVT-bc114a58-3eaf  ART-4de1a19c-0779  LOC-Arena15200NY-Own-334a8797-8708   \n",
            "2  EVT-78a9775c-5eee  ART-4de1a19c-0779  LOC-Arena15200NY-Own-334a8797-8708   \n",
            "3  EVT-cf249300-7259  ART-4de1a19c-0779  LOC-Arena15200NY-Own-334a8797-8708   \n",
            "4  EVT-54753efb-60ca  ART-4de1a19c-0779  LOC-Arena14400OK-Own-226f9270-4eb6   \n",
            "\n",
            "  start_date  attendance  average_ticket_price  \n",
            "0     1/2/14       10542                 41.45  \n",
            "1    1/11/14       11390                 57.35  \n",
            "2    8/29/14       11482                 57.36  \n",
            "3    2/15/17         152                 59.63  \n",
            "4    1/17/14        9513                 42.79  \n"
          ]
        }
      ],
      "source": [
        "import pandas as pd\n",
        "import numpy as np\n",
        "\n",
        "df = pd.read_csv('music_concert.csv')\n",
        "df = df.dropna()\n",
        "print(df.head())"
      ]
    },
    {
      "cell_type": "markdown",
      "source": [
        "The following code section translates the location IDs into the location type, capacity,\n",
        "ownership type, and state. And the estimated total revenue is calculated by multiplying attendance with average ticket price.\n",
        "\n",
        "location_capacity is converted to float so it can be aggregated later in this analysis.\n"
      ],
      "metadata": {
        "id": "OydduA3aJuXW"
      }
    },
    {
      "cell_type": "code",
      "source": [
        "location_detail = df['location_id'].str.split('-', expand=True)\n",
        "df[['location_type', 'location_capacity', 'state']] \\\n",
        "  = location_detail[1].str.extract(r'(\\D+)(\\d+)(\\D+)')\n",
        "df['client_owned_location'] = df['location_id'].str.contains('-Own-')\n",
        "df['total_revenue'] = df['attendance'] * df['average_ticket_price']\n",
        "df['location_capacity'] = df['location_capacity'].astype(float)\n",
        "print(df.head())"
      ],
      "metadata": {
        "colab": {
          "base_uri": "https://localhost:8080/"
        },
        "id": "JYEYBTfWKB1g",
        "outputId": "4f73f49b-98f6-42f2-945e-91a9c5ed2a46"
      },
      "execution_count": 2,
      "outputs": [
        {
          "output_type": "stream",
          "name": "stdout",
          "text": [
            "            event_id          artist_id                         location_id  \\\n",
            "0  EVT-3adca30d-b5ea  ART-4de1a19c-0779      LOC-Arena16800OH-621a3f60-24c0   \n",
            "1  EVT-bc114a58-3eaf  ART-4de1a19c-0779  LOC-Arena15200NY-Own-334a8797-8708   \n",
            "2  EVT-78a9775c-5eee  ART-4de1a19c-0779  LOC-Arena15200NY-Own-334a8797-8708   \n",
            "3  EVT-cf249300-7259  ART-4de1a19c-0779  LOC-Arena15200NY-Own-334a8797-8708   \n",
            "4  EVT-54753efb-60ca  ART-4de1a19c-0779  LOC-Arena14400OK-Own-226f9270-4eb6   \n",
            "\n",
            "  start_date  attendance  average_ticket_price location_type  \\\n",
            "0     1/2/14       10542                 41.45         Arena   \n",
            "1    1/11/14       11390                 57.35         Arena   \n",
            "2    8/29/14       11482                 57.36         Arena   \n",
            "3    2/15/17         152                 59.63         Arena   \n",
            "4    1/17/14        9513                 42.79         Arena   \n",
            "\n",
            "   location_capacity state  client_owned_location  total_revenue  \n",
            "0            16800.0    OH                  False      436965.90  \n",
            "1            15200.0    NY                   True      653216.50  \n",
            "2            15200.0    NY                   True      658607.52  \n",
            "3            15200.0    NY                   True        9063.76  \n",
            "4            14400.0    OK                   True      407061.27  \n"
          ]
        }
      ]
    },
    {
      "cell_type": "code",
      "source": [
        "print(df['attendance'].describe())\n",
        "print(df['average_ticket_price'].describe())\n",
        "print(df['location_capacity'].astype(float).describe())"
      ],
      "metadata": {
        "colab": {
          "base_uri": "https://localhost:8080/"
        },
        "id": "ZtYLJfCw7c5D",
        "outputId": "57b12c20-c385-457c-c4d9-9f35278f9ff5"
      },
      "execution_count": 3,
      "outputs": [
        {
          "output_type": "stream",
          "name": "stdout",
          "text": [
            "count      286.000000\n",
            "mean     12667.751748\n",
            "std       6657.886107\n",
            "min        116.000000\n",
            "25%       8564.500000\n",
            "50%      11921.500000\n",
            "75%      14912.250000\n",
            "max      52800.000000\n",
            "Name: attendance, dtype: float64\n",
            "count    286.000000\n",
            "mean      45.816643\n",
            "std       12.893347\n",
            "min       23.610000\n",
            "25%       35.397500\n",
            "50%       43.525000\n",
            "75%       55.525000\n",
            "max       88.180000\n",
            "Name: average_ticket_price, dtype: float64\n",
            "count      286.000000\n",
            "mean     17101.346154\n",
            "std       9015.509408\n",
            "min       1040.000000\n",
            "25%      13000.000000\n",
            "50%      15960.000000\n",
            "75%      16800.000000\n",
            "max      60900.000000\n",
            "Name: location_capacity, dtype: float64\n"
          ]
        }
      ]
    },
    {
      "cell_type": "markdown",
      "source": [
        "The following sections calculate the average attendance and average ticket price by location type."
      ],
      "metadata": {
        "id": "9aXdpL5DK4Ul"
      }
    },
    {
      "cell_type": "code",
      "source": [
        "df.groupby(['location_type'])['attendance'].mean()"
      ],
      "metadata": {
        "colab": {
          "base_uri": "https://localhost:8080/"
        },
        "id": "wGTKHx5TLHgh",
        "outputId": "63a0720d-2518-4f09-bcd5-62ce157f5302"
      },
      "execution_count": 4,
      "outputs": [
        {
          "output_type": "execute_result",
          "data": {
            "text/plain": [
              "location_type\n",
              "Amphitheatre    12983.630952\n",
              "Arena            8028.244681\n",
              "Club              481.000000\n",
              "Stadium         29851.782609\n",
              "Name: attendance, dtype: float64"
            ]
          },
          "metadata": {},
          "execution_count": 4
        }
      ]
    },
    {
      "cell_type": "code",
      "source": [
        "df.groupby(['location_type'])['average_ticket_price'].mean()"
      ],
      "metadata": {
        "colab": {
          "base_uri": "https://localhost:8080/"
        },
        "id": "9S7vAW8ZLXn0",
        "outputId": "0a8115eb-1a65-4b45-ba6e-2e806b515a9c"
      },
      "execution_count": 5,
      "outputs": [
        {
          "output_type": "execute_result",
          "data": {
            "text/plain": [
              "location_type\n",
              "Amphitheatre    38.410952\n",
              "Arena           54.830319\n",
              "Club            38.800000\n",
              "Stadium         63.376957\n",
              "Name: average_ticket_price, dtype: float64"
            ]
          },
          "metadata": {},
          "execution_count": 5
        }
      ]
    },
    {
      "cell_type": "markdown",
      "source": [
        "The following sections calculate the row count, average, standard deviation, variance, median, minimum, and maximum of the attendance and average ticket price by location type."
      ],
      "metadata": {
        "id": "IRhcq1-NMJAL"
      }
    },
    {
      "cell_type": "code",
      "source": [
        "aggs_attendance = df.groupby('location_type')['attendance']\\\n",
        "  .agg([np.size, np.mean, np.std, np.var, np.median, np.min, np.max])\n",
        "print(aggs_attendance)"
      ],
      "metadata": {
        "colab": {
          "base_uri": "https://localhost:8080/"
        },
        "id": "KFy8mt1xMJ52",
        "outputId": "14fe2461-d036-4d96-b199-266d4b714f29"
      },
      "execution_count": 6,
      "outputs": [
        {
          "output_type": "stream",
          "name": "stdout",
          "text": [
            "               size          mean          std           var   median   amin  \\\n",
            "location_type                                                                  \n",
            "Amphitheatre    168  12983.630952  3071.720881  9.435469e+06  13220.0   5642   \n",
            "Arena            94   8028.244681  2451.822187  6.011432e+06   7826.5    116   \n",
            "Club              1    481.000000          NaN           NaN    481.0    481   \n",
            "Stadium          23  29851.782609  8307.205437  6.900966e+07  29450.0  17360   \n",
            "\n",
            "                amax  \n",
            "location_type         \n",
            "Amphitheatre   20401  \n",
            "Arena          14910  \n",
            "Club             481  \n",
            "Stadium        52800  \n"
          ]
        }
      ]
    },
    {
      "cell_type": "code",
      "source": [
        "aggs_average_ticket_price = df.groupby('location_type')['average_ticket_price']\\\n",
        "  .agg([np.size, np.mean, np.std, np.var, np.median, np.min, np.max])\n",
        "print(aggs_average_ticket_price)"
      ],
      "metadata": {
        "colab": {
          "base_uri": "https://localhost:8080/"
        },
        "id": "idaZK_d8MaDc",
        "outputId": "b673018f-b3cf-4397-b4a4-1c3cd534b7ab"
      },
      "execution_count": 7,
      "outputs": [
        {
          "output_type": "stream",
          "name": "stdout",
          "text": [
            "               size       mean       std        var  median   amin   amax\n",
            "location_type                                                            \n",
            "Amphitheatre    168  38.410952  9.674380  93.593635  36.590  23.61  78.81\n",
            "Arena            94  54.830319  7.885108  62.174924  54.445  32.20  73.87\n",
            "Club              1  38.800000       NaN        NaN  38.800  38.80  38.80\n",
            "Stadium          23  63.376957  9.469868  89.678395  62.450  46.08  88.18\n"
          ]
        }
      ]
    },
    {
      "cell_type": "markdown",
      "source": [
        "The following section calculates the same attendance statistics by state, and sorted by attendance in descending order."
      ],
      "metadata": {
        "id": "smH8JQw_Mq9L"
      }
    },
    {
      "cell_type": "code",
      "source": [
        "aggs_attendance = df.groupby('state')['attendance']\\\n",
        "  .agg([np.size, np.mean, np.std, np.var, np.median, np.min, np.max])\n",
        "aggs_attendance.sort_values(by=['mean'], inplace=True, ascending=False)\n",
        "print(aggs_attendance)"
      ],
      "metadata": {
        "colab": {
          "base_uri": "https://localhost:8080/"
        },
        "id": "Libdo6rUMyvC",
        "outputId": "bb3ae039-7b24-43ed-b629-3e1fc4eb612a"
      },
      "execution_count": 8,
      "outputs": [
        {
          "output_type": "stream",
          "name": "stdout",
          "text": [
            "       size          mean           std           var   median   amin   amax\n",
            "state                                                                       \n",
            "CO        2  37996.000000    913.581961  8.346320e+05  37996.0  37350  38642\n",
            "MN        3  31800.333333   4834.813578  2.337542e+07  32062.0  26840  36499\n",
            "PA       14  19859.285714  11014.894150  1.213279e+08  17020.5   6603  52800\n",
            "MI        3  19561.000000  11206.509671  1.255859e+08  19578.0   8346  30759\n",
            "CT        1  18522.000000           NaN           NaN  18522.0  18522  18522\n",
            "ON        6  16390.333333   8345.540670  6.964805e+07  12383.5  11448  32846\n",
            "OH       23  14825.000000   4086.402619  1.669869e+07  15662.0   5892  29450\n",
            "BC        3  14609.000000   9335.638543  8.715415e+07  11311.0   7370  25146\n",
            "NJ       18  14329.611111   5497.386290  3.022126e+07  13255.0   9311  34486\n",
            "WA        4  13733.750000   3728.988815  1.390536e+07  13458.0   9697  18322\n",
            "VA       25  13223.520000   3331.294870  1.109753e+07  14666.0   7117  17626\n",
            "MA        1  13006.000000           NaN           NaN  13006.0  13006  13006\n",
            "CA       30  12777.300000   5884.322544  3.462525e+07  11424.5   6758  34360\n",
            "TN        4  12585.250000   7915.237641  6.265099e+07  10491.5   5449  23909\n",
            "AZ        6  12582.000000   3090.821315  9.553176e+06  13408.0   6455  14809\n",
            "NC       11  12262.818182   3182.642638  1.012921e+07  12623.0   5427  15717\n",
            "IL       12  11988.750000   9521.159871  9.065249e+07   9097.5   5930  40422\n",
            "FL       19  11907.210526   5698.829691  3.247666e+07  12505.0   4602  31200\n",
            "KY        3  11854.333333   2520.837625  6.354622e+06  12266.0   9153  14144\n",
            "KS        2  11687.000000   3098.541915  9.600962e+06  11687.0   9496  13878\n",
            "NY       20  11563.350000   5081.934032  2.582605e+07  11436.0    152  19707\n",
            "MO        2  11381.000000   2610.638236  6.815432e+06  11381.0   9535  13227\n",
            "GA       10  11284.100000   4584.678941  2.101928e+07  10902.0   4480  19262\n",
            "TX       16   9952.000000   3392.369948  1.150817e+07   9346.0   4563  17600\n",
            "NE        5   9592.400000   1891.479395  3.577694e+06   9202.0   7105  11770\n",
            "OR        1   9525.000000           NaN           NaN   9525.0   9525   9525\n",
            "MD        1   9435.000000           NaN           NaN   9435.0   9435   9435\n",
            "ME        4   8563.750000   1935.156217  3.744830e+06   8747.5   6264  10496\n",
            "NM        1   8236.000000           NaN           NaN   8236.0   8236   8236\n",
            "AR        2   8122.000000   3190.465797  1.017907e+07   8122.0   5866  10378\n",
            "LA        7   7958.142857   1259.962755  1.587506e+06   7327.0   6353   9834\n",
            "SD        2   7684.000000    265.872150  7.068800e+04   7684.0   7496   7872\n",
            "SC        3   7585.666667   1551.485847  2.407108e+06   7714.0   5974   9069\n",
            "OK        6   7287.166667   2406.348555  5.790513e+06   7295.5   4682  10115\n",
            "NH        6   6556.833333    317.497349  1.008046e+05   6470.0   6260   6994\n",
            "AL        2   6369.000000    951.765727  9.058580e+05   6369.0   5696   7042\n",
            "IN        3   6287.333333    981.195869  9.627453e+05   6800.0   5156   6906\n",
            "WV        3   6021.333333   1088.391627  1.184596e+06   5674.0   5149   7241\n",
            "ND        1   5226.000000           NaN           NaN   5226.0   5226   5226\n",
            "RI        1    116.000000           NaN           NaN    116.0    116    116\n"
          ]
        }
      ]
    },
    {
      "cell_type": "markdown",
      "source": [
        "The following section calculates the total revenue statistics by state, and sorted by attendance in descending order."
      ],
      "metadata": {
        "id": "BaiJsYLfNMJH"
      }
    },
    {
      "cell_type": "code",
      "source": [
        "aggs_total_revenue = df.groupby('state')['total_revenue']\\\n",
        "  .agg([np.mean, np.std, np.var, np.median, np.min, np.max])\n",
        "aggs_total_revenue.sort_values(by=['mean'], inplace=True, ascending=False)\n",
        "print(aggs_total_revenue)"
      ],
      "metadata": {
        "colab": {
          "base_uri": "https://localhost:8080/"
        },
        "id": "QwN7KFQPNLoM",
        "outputId": "c7d92895-0496-4daf-8919-ed0df08bc61c"
      },
      "execution_count": 9,
      "outputs": [
        {
          "output_type": "stream",
          "name": "stdout",
          "text": [
            "               mean            std           var       median        amin  \\\n",
            "state                                                                       \n",
            "MN     2.247079e+06  540121.559804  2.917313e+11  2228629.620  1716418.00   \n",
            "CO     2.163479e+06   50944.667706  2.595359e+09  2163479.320  2127456.00   \n",
            "MI     1.279677e+06  885025.269147  7.832697e+11  1220492.520   425729.46   \n",
            "BC     1.064139e+06  999228.661063  9.984579e+11   519061.790   455981.90   \n",
            "ON     1.022657e+06  738336.373509  5.451406e+11   700431.965   561836.73   \n",
            "PA     8.290438e+05  660619.397236  4.364180e+11   533079.990   227935.56   \n",
            "TN     7.644420e+05  586667.271113  3.441785e+11   555141.935   331953.08   \n",
            "MA     7.110380e+05            NaN           NaN   711038.020   711038.02   \n",
            "WA     6.979959e+05  273337.928986  7.471362e+10   707589.960   354619.29   \n",
            "NJ     6.790318e+05  394676.063258  1.557692e+11   604938.400   441015.60   \n",
            "CT     6.201166e+05            NaN           NaN   620116.560   620116.56   \n",
            "IL     6.052926e+05  573597.497792  3.290141e+11   456093.840   302430.00   \n",
            "CA     6.013824e+05  416376.586168  1.733695e+11   497391.330   259080.54   \n",
            "KY     5.422807e+05   75402.472099  5.685533e+09   580304.460   455436.80   \n",
            "OR     5.324475e+05            NaN           NaN   532447.500   532447.50   \n",
            "NY     5.284819e+05  210665.370867  4.437990e+10   555294.660     9063.76   \n",
            "OH     5.258273e+05  282666.279335  7.990023e+10   470793.120   322999.44   \n",
            "AZ     5.055935e+05   95013.403594  9.027547e+09   529485.510   333594.40   \n",
            "MD     5.051499e+05            NaN           NaN   505149.900   505149.90   \n",
            "FL     5.004468e+05  294993.830092  8.702136e+10   462313.800   249428.40   \n",
            "NE     4.925593e+05   86484.864850  7.479632e+09   463306.000   425731.60   \n",
            "VA     4.792966e+05  102376.671686  1.048098e+10   491267.700   299072.56   \n",
            "LA     4.633516e+05   50301.664246  2.530257e+09   440475.840   414660.31   \n",
            "GA     4.527922e+05  251410.859684  6.320742e+10   414599.570   229286.40   \n",
            "NM     4.253894e+05            NaN           NaN   425389.400   425389.40   \n",
            "AR     4.195623e+05  151932.484398  2.308348e+10   419562.350   312129.86   \n",
            "SD     4.153704e+05   27114.264083  7.351833e+08   415370.440   396197.76   \n",
            "ME     4.071496e+05  101237.601009  1.024905e+10   402538.880   296412.48   \n",
            "TX     4.064064e+05  116218.963431  1.350685e+10   412038.800   220986.09   \n",
            "KS     4.022934e+05   42631.637543  1.817457e+09   402293.360   372148.24   \n",
            "SC     4.013671e+05   42905.612185  1.840892e+09   379229.520   374051.86   \n",
            "NC     3.931270e+05   65100.264369  4.238044e+09   414368.640   271892.24   \n",
            "OK     3.818229e+05  105028.323858  1.103095e+10   370710.230   265188.48   \n",
            "MO     3.811532e+05   48330.147453  2.335803e+09   381153.225   346978.65   \n",
            "WV     3.703866e+05   72352.232553  5.234846e+09   411071.570   286850.79   \n",
            "NH     3.641137e+05   29297.508279  8.583440e+08   361417.635   318856.46   \n",
            "IN     3.513437e+05   21949.391322  4.817758e+08   345921.540   332613.56   \n",
            "AL     2.832560e+05     958.044836  9.178499e+05   283256.000   282578.56   \n",
            "ND     2.317731e+05            NaN           NaN   231773.100   231773.10   \n",
            "RI     6.124800e+03            NaN           NaN     6124.800     6124.80   \n",
            "\n",
            "             amax  \n",
            "state              \n",
            "MN     2796188.39  \n",
            "CO     2199502.64  \n",
            "MI     2192809.11  \n",
            "BC     2217374.28  \n",
            "ON     2483814.52  \n",
            "PA     2547072.00  \n",
            "TN     1615531.13  \n",
            "MA      711038.02  \n",
            "WA     1022184.38  \n",
            "NJ     2222967.56  \n",
            "CT      620116.56  \n",
            "IL     2402683.68  \n",
            "CA     2148187.20  \n",
            "KY      591100.74  \n",
            "OR      532447.50  \n",
            "NY      851463.24  \n",
            "OH     1770534.00  \n",
            "AZ      599617.70  \n",
            "MD      505149.90  \n",
            "FL     1650480.00  \n",
            "NE      641347.30  \n",
            "VA      729017.62  \n",
            "LA      541245.49  \n",
            "GA     1117196.00  \n",
            "NM      425389.40  \n",
            "AR      526994.84  \n",
            "SD      434543.12  \n",
            "ME      527108.04  \n",
            "TX      737616.00  \n",
            "KS      432438.48  \n",
            "SC      450819.99  \n",
            "NC      480737.27  \n",
            "OK      550256.00  \n",
            "MO      415327.80  \n",
            "WV      413237.42  \n",
            "NH      408730.08  \n",
            "IN      375496.00  \n",
            "AL      283933.44  \n",
            "ND      231773.10  \n",
            "RI        6124.80  \n"
          ]
        }
      ]
    },
    {
      "cell_type": "markdown",
      "source": [
        "The following section uses the statsmodels function to create a regression model based on the input data."
      ],
      "metadata": {
        "id": "VoHEx914TzqU"
      }
    },
    {
      "cell_type": "code",
      "source": [
        "import statsmodels.formula.api as smf\n",
        "\n",
        "model = smf.ols(formula='total_revenue ~ \\\n",
        "  attendance + average_ticket_price + \\\n",
        "  location_type + \\\n",
        "  location_capacity.astype(float) + \\\n",
        "  state + client_owned_location', data=df)\n",
        "result = model.fit()\n",
        "print(result.summary())"
      ],
      "metadata": {
        "colab": {
          "base_uri": "https://localhost:8080/"
        },
        "id": "7gcepSF0R4Ds",
        "outputId": "d0576cff-5f07-43ef-e467-30dcb0973e2a"
      },
      "execution_count": 10,
      "outputs": [
        {
          "output_type": "stream",
          "name": "stdout",
          "text": [
            "                            OLS Regression Results                            \n",
            "==============================================================================\n",
            "Dep. Variable:          total_revenue   R-squared:                       0.983\n",
            "Model:                            OLS   Adj. R-squared:                  0.980\n",
            "Method:                 Least Squares   F-statistic:                     307.5\n",
            "Date:                Wed, 31 May 2023   Prob (F-statistic):          5.13e-188\n",
            "Time:                        03:26:04   Log-Likelihood:                -3527.8\n",
            "No. Observations:                 286   AIC:                             7150.\n",
            "Df Residuals:                     239   BIC:                             7321.\n",
            "Df Model:                          46                                         \n",
            "Covariance Type:            nonrobust                                         \n",
            "===================================================================================================\n",
            "                                      coef    std err          t      P>|t|      [0.025      0.975]\n",
            "---------------------------------------------------------------------------------------------------\n",
            "Intercept                       -5.817e+05   5.15e+04    -11.306      0.000   -6.83e+05    -4.8e+05\n",
            "location_type[T.Arena]           -2.15e+04    1.3e+04     -1.658      0.099    -4.7e+04    4048.701\n",
            "location_type[T.Club]             1.64e+05   6.58e+04      2.492      0.013    3.44e+04    2.94e+05\n",
            "location_type[T.Stadium]         2.318e+05   4.48e+04      5.176      0.000    1.44e+05     3.2e+05\n",
            "state[T.AR]                     -1.366e+04    6.2e+04     -0.220      0.826   -1.36e+05    1.09e+05\n",
            "state[T.AZ]                     -5.258e+04   5.09e+04     -1.032      0.303   -1.53e+05    4.78e+04\n",
            "state[T.BC]                      5.828e+04   5.72e+04      1.020      0.309   -5.43e+04    1.71e+05\n",
            "state[T.CA]                     -2.603e+04   4.53e+04     -0.575      0.566   -1.15e+05    6.32e+04\n",
            "state[T.CO]                     -5.954e+04   6.97e+04     -0.854      0.394   -1.97e+05    7.78e+04\n",
            "state[T.CT]                      -1.11e+05   7.55e+04     -1.470      0.143    -2.6e+05    3.78e+04\n",
            "state[T.FL]                      -4.89e+04   4.61e+04     -1.061      0.290    -1.4e+05    4.19e+04\n",
            "state[T.GA]                     -5.314e+04    4.8e+04     -1.106      0.270   -1.48e+05    4.15e+04\n",
            "state[T.IL]                     -2.646e+04    4.8e+04     -0.551      0.582   -1.21e+05    6.81e+04\n",
            "state[T.IN]                     -5.966e+04   5.63e+04     -1.060      0.290   -1.71e+05    5.12e+04\n",
            "state[T.KS]                     -4.532e+04   6.19e+04     -0.732      0.465   -1.67e+05    7.66e+04\n",
            "state[T.KY]                     -4.179e+04   5.79e+04     -0.721      0.471   -1.56e+05    7.23e+04\n",
            "state[T.LA]                     -7.421e+04   5.07e+04     -1.463      0.145   -1.74e+05    2.57e+04\n",
            "state[T.MA]                     -4.187e+04   7.54e+04     -0.555      0.579    -1.9e+05    1.07e+05\n",
            "state[T.MD]                     -3.912e+04   7.58e+04     -0.516      0.606   -1.88e+05     1.1e+05\n",
            "state[T.ME]                     -1.439e+04   5.24e+04     -0.274      0.784   -1.18e+05    8.89e+04\n",
            "state[T.MI]                     -1.385e+04   5.71e+04     -0.243      0.808   -1.26e+05    9.86e+04\n",
            "state[T.MN]                      1.885e+05   5.89e+04      3.200      0.002    7.24e+04    3.04e+05\n",
            "state[T.MO]                     -8179.5187   6.09e+04     -0.134      0.893   -1.28e+05    1.12e+05\n",
            "state[T.NC]                     -4.174e+04   4.77e+04     -0.875      0.383   -1.36e+05    5.23e+04\n",
            "state[T.ND]                      3.321e+04   7.49e+04      0.444      0.658   -1.14e+05    1.81e+05\n",
            "state[T.NE]                      -1.29e+04   5.24e+04     -0.246      0.806   -1.16e+05    9.03e+04\n",
            "state[T.NH]                     -7.214e+04      5e+04     -1.443      0.150   -1.71e+05    2.63e+04\n",
            "state[T.NJ]                      -2.48e+04   4.61e+04     -0.538      0.591   -1.16e+05    6.61e+04\n",
            "state[T.NM]                     -9567.3605   7.49e+04     -0.128      0.898   -1.57e+05    1.38e+05\n",
            "state[T.NY]                     -6.672e+04   4.63e+04     -1.440      0.151   -1.58e+05    2.45e+04\n",
            "state[T.OH]                     -5.451e+04   4.59e+04     -1.188      0.236   -1.45e+05    3.59e+04\n",
            "state[T.OK]                     -4.501e+04   5.15e+04     -0.875      0.383   -1.46e+05    5.64e+04\n",
            "state[T.ON]                       1.05e+04   5.08e+04      0.207      0.836   -8.95e+04     1.1e+05\n",
            "state[T.OR]                      -4.47e+04   7.62e+04     -0.586      0.558   -1.95e+05    1.05e+05\n",
            "state[T.PA]                     -1.041e+05   4.74e+04     -2.195      0.029   -1.98e+05   -1.07e+04\n",
            "state[T.RI]                     -7.554e+04   7.57e+04     -0.997      0.320   -2.25e+05    7.37e+04\n",
            "state[T.SC]                      -2.94e+04   5.67e+04     -0.519      0.605   -1.41e+05    8.23e+04\n",
            "state[T.SD]                     -2.379e+04   6.15e+04     -0.387      0.699   -1.45e+05    9.73e+04\n",
            "state[T.TN]                     -3.108e+04   5.36e+04     -0.580      0.563   -1.37e+05    7.45e+04\n",
            "state[T.TX]                      -1.47e+04   4.61e+04     -0.319      0.750   -1.06e+05    7.61e+04\n",
            "state[T.VA]                     -4.296e+04    4.6e+04     -0.934      0.351   -1.34e+05    4.76e+04\n",
            "state[T.WA]                     -5.176e+04   5.32e+04     -0.972      0.332   -1.57e+05    5.31e+04\n",
            "state[T.WV]                     -8.213e+04   5.63e+04     -1.460      0.146   -1.93e+05    2.87e+04\n",
            "client_owned_location[T.True]    2.767e+04   1.15e+04      2.409      0.017    5046.110    5.03e+04\n",
            "attendance                         48.6536      1.381     35.243      0.000      45.934      51.373\n",
            "average_ticket_price             1.237e+04    514.407     24.042      0.000    1.14e+04    1.34e+04\n",
            "location_capacity.astype(float)    -0.1236      1.426     -0.087      0.931      -2.932       2.685\n",
            "==============================================================================\n",
            "Omnibus:                       44.390   Durbin-Watson:                   2.054\n",
            "Prob(Omnibus):                  0.000   Jarque-Bera (JB):              349.009\n",
            "Skew:                           0.241   Prob(JB):                     1.64e-76\n",
            "Kurtosis:                       8.390   Cond. No.                     1.88e+06\n",
            "==============================================================================\n",
            "\n",
            "Notes:\n",
            "[1] Standard Errors assume that the covariance matrix of the errors is correctly specified.\n",
            "[2] The condition number is large, 1.88e+06. This might indicate that there are\n",
            "strong multicollinearity or other numerical problems.\n"
          ]
        }
      ]
    },
    {
      "cell_type": "markdown",
      "source": [
        "[Dr. Vincent Granville](https://mltechniques.com/author/) helped improve this analysis by suggesting the following actions.\n",
        "* Create a scatter plot to compare the predicted and observed values. This visualization helps with understanding how the model performs.\n",
        "* Compute the correlation matrix between features, and between response and features. Very high correlation between two independent features  lead to potentially meaningless correlation coefficients for these two features, and again close to getting a singular matrix.\n",
        "* Exclude features with high p-value. P-values attached to the various states tell you that the corresponding regression coefficients are not useful."
      ],
      "metadata": {
        "id": "28o2Q9LWVaQV"
      }
    },
    {
      "cell_type": "code",
      "source": [
        "import matplotlib.pyplot as plt\n",
        "\n",
        "observed_values = result.fittedvalues + result.resid\n",
        "\n",
        "fig, ax = plt.subplots()\n",
        "ax.scatter(result.fittedvalues, observed_values)\n",
        "ax.set_xlabel('Predicted')\n",
        "ax.set_ylabel('Observed')\n",
        "\n",
        "x = result.fittedvalues\n",
        "y = observed_values\n",
        "z = np.polyfit(x, y, 1)\n",
        "p = np.poly1d(z)\n",
        "\n",
        "plt.scatter(x, y)\n",
        "plt.plot(x, p(x), 'gray')\n",
        "\n",
        "plt.show()"
      ],
      "metadata": {
        "colab": {
          "base_uri": "https://localhost:8080/",
          "height": 465
        },
        "id": "he7foIe7HEiy",
        "outputId": "f4736950-edf4-41d1-a509-b09eb25e6fa0"
      },
      "execution_count": 11,
      "outputs": [
        {
          "output_type": "display_data",
          "data": {
            "text/plain": [
              "<Figure size 640x480 with 1 Axes>"
            ],
            "image/png": "[encoded data removed]"
          },
          "metadata": {}
        }
      ]
    },
    {
      "cell_type": "markdown",
      "source": [
        "The following heatmap chart shows the correlation between the features, and between the response and features. The total revenue is highly correlated with the attendance."
      ],
      "metadata": {
        "id": "O8Ey2eQBYyVW"
      }
    },
    {
      "cell_type": "code",
      "source": [
        "import seaborn as sns\n",
        "\n",
        "corr_matrix = df.corr(numeric_only='False')\n",
        "print(corr_matrix)\n",
        "sns.heatmap(corr_matrix, annot=True)"
      ],
      "metadata": {
        "colab": {
          "base_uri": "https://localhost:8080/",
          "height": 818
        },
        "id": "0nwZ-4okInR-",
        "outputId": "7316bf79-65e7-4185-c688-c4aa450e4ea8"
      },
      "execution_count": 12,
      "outputs": [
        {
          "output_type": "stream",
          "name": "stdout",
          "text": [
            "                       attendance  average_ticket_price  location_capacity  \\\n",
            "attendance               1.000000             -0.024045           0.863034   \n",
            "average_ticket_price    -0.024045              1.000000           0.182336   \n",
            "location_capacity        0.863034              0.182336           1.000000   \n",
            "client_owned_location   -0.028738              0.166596           0.076118   \n",
            "total_revenue            0.877413              0.425942           0.868366   \n",
            "\n",
            "                       client_owned_location  total_revenue  \n",
            "attendance                         -0.028738       0.877413  \n",
            "average_ticket_price                0.166596       0.425942  \n",
            "location_capacity                   0.076118       0.868366  \n",
            "client_owned_location               1.000000       0.055164  \n",
            "total_revenue                       0.055164       1.000000  \n"
          ]
        },
        {
          "output_type": "execute_result",
          "data": {
            "text/plain": [
              "<Axes: >"
            ]
          },
          "metadata": {},
          "execution_count": 12
        },
        {
          "output_type": "display_data",
          "data": {
            "text/plain": [
              "<Figure size 640x480 with 2 Axes>"
            ],
            "image/png": "[encoded data removed]"
          },
          "metadata": {}
        }
      ]
    },
    {
      "cell_type": "markdown",
      "source": [
        "The following section transforms the original data set into an aggregated one."
      ],
      "metadata": {
        "id": "j05w5IwwZt0p"
      }
    },
    {
      "cell_type": "code",
      "source": [
        "new_data = df\n",
        "new_data.drop(['event_id', 'artist_id', 'location_id', 'start_date'], axis=1)\n",
        "##print(new_data.info())\n",
        "grouped_new = new_data.groupby(['location_type', 'state', 'client_owned_location'])\\\n",
        "  .apply(lambda x: x[['attendance', 'average_ticket_price', 'location_capacity', \\\n",
        "                      'total_revenue']].mean())\n",
        "grouped_new = grouped_new.reset_index()\n",
        "\n",
        "grouped_new['aggregate_bucket'] = grouped_new[['location_type', 'state', 'client_owned_location']].apply(lambda x: '_'.join(x.astype(str)), axis=1)\n",
        "grouped_new.drop(['location_type', 'state', 'client_owned_location'], axis=1)\n",
        "print(grouped_new.head())\n",
        "print(grouped_new.info())"
      ],
      "metadata": {
        "colab": {
          "base_uri": "https://localhost:8080/"
        },
        "id": "d4u_Re6JMyQY",
        "outputId": "7d833bd1-3681-4323-e278-70d709902aae"
      },
      "execution_count": 13,
      "outputs": [
        {
          "output_type": "stream",
          "name": "stdout",
          "text": [
            "  location_type state  client_owned_location  attendance  \\\n",
            "0  Amphitheatre    AL                  False      6369.0   \n",
            "1  Amphitheatre    AZ                   True     13807.4   \n",
            "2  Amphitheatre    CA                  False     12424.4   \n",
            "3  Amphitheatre    CA                   True     13413.0   \n",
            "4  Amphitheatre    CT                  False     18522.0   \n",
            "\n",
            "   average_ticket_price  location_capacity  total_revenue  \\\n",
            "0                44.965             8188.0    283256.0000   \n",
            "1                39.168            16000.0    539993.3560   \n",
            "2                39.985            15272.0    485138.7415   \n",
            "3                51.990            14400.0    697341.8700   \n",
            "4                33.480            19369.0    620116.5600   \n",
            "\n",
            "        aggregate_bucket  \n",
            "0  Amphitheatre_AL_False  \n",
            "1   Amphitheatre_AZ_True  \n",
            "2  Amphitheatre_CA_False  \n",
            "3   Amphitheatre_CA_True  \n",
            "4  Amphitheatre_CT_False  \n",
            "<class 'pandas.core.frame.DataFrame'>\n",
            "RangeIndex: 82 entries, 0 to 81\n",
            "Data columns (total 8 columns):\n",
            " #   Column                 Non-Null Count  Dtype  \n",
            "---  ------                 --------------  -----  \n",
            " 0   location_type          82 non-null     object \n",
            " 1   state                  82 non-null     object \n",
            " 2   client_owned_location  82 non-null     bool   \n",
            " 3   attendance             82 non-null     float64\n",
            " 4   average_ticket_price   82 non-null     float64\n",
            " 5   location_capacity      82 non-null     float64\n",
            " 6   total_revenue          82 non-null     float64\n",
            " 7   aggregate_bucket       82 non-null     object \n",
            "dtypes: bool(1), float64(4), object(3)\n",
            "memory usage: 4.7+ KB\n",
            "None\n"
          ]
        }
      ]
    },
    {
      "cell_type": "markdown",
      "source": [
        "Rebuild the regression using the new data set. The location type, state, and client owned location features are excluded. The R-squared value increased from 0.983 to 0.986."
      ],
      "metadata": {
        "id": "0ni1zJn0ZO4k"
      }
    },
    {
      "cell_type": "code",
      "source": [
        "import statsmodels.formula.api as smf\n",
        "\n",
        "new_model = smf.ols(formula='total_revenue ~ \\\n",
        "  attendance + average_ticket_price + \\\n",
        "  location_type + \\\n",
        "  location_capacity + \\\n",
        "  state + client_owned_location', data=grouped_new)\n",
        "'''\n",
        "new_model = smf.ols(formula='total_revenue ~ \\\n",
        "  attendance + average_ticket_price + \\\n",
        "  location_capacity', data=grouped_new)\n",
        "'''\n",
        "new_result = new_model.fit()\n",
        "print(new_result.summary())"
      ],
      "metadata": {
        "colab": {
          "base_uri": "https://localhost:8080/"
        },
        "id": "3lmDetuHRBgk",
        "outputId": "3e57b91b-d39a-44d0-ac96-899be1548d2f"
      },
      "execution_count": 14,
      "outputs": [
        {
          "output_type": "stream",
          "name": "stdout",
          "text": [
            "                            OLS Regression Results                            \n",
            "==============================================================================\n",
            "Dep. Variable:          total_revenue   R-squared:                       0.995\n",
            "Model:                            OLS   Adj. R-squared:                  0.987\n",
            "Method:                 Least Squares   F-statistic:                     140.0\n",
            "Date:                Wed, 31 May 2023   Prob (F-statistic):           1.44e-29\n",
            "Time:                        03:26:06   Log-Likelihood:                -991.14\n",
            "No. Observations:                  82   AIC:                             2076.\n",
            "Df Residuals:                      35   BIC:                             2189.\n",
            "Df Model:                          46                                         \n",
            "Covariance Type:            nonrobust                                         \n",
            "=================================================================================================\n",
            "                                    coef    std err          t      P>|t|      [0.025      0.975]\n",
            "-------------------------------------------------------------------------------------------------\n",
            "Intercept                     -8.041e+05   1.21e+05     -6.660      0.000   -1.05e+06   -5.59e+05\n",
            "location_type[T.Arena]        -5.258e+04   3.51e+04     -1.497      0.143   -1.24e+05    1.87e+04\n",
            "location_type[T.Club]          2.727e+05   8.86e+04      3.076      0.004    9.27e+04    4.53e+05\n",
            "location_type[T.Stadium]      -2.064e+04   1.09e+05     -0.189      0.851   -2.42e+05    2.01e+05\n",
            "state[T.AR]                    -3.67e+04    9.8e+04     -0.375      0.710   -2.36e+05    1.62e+05\n",
            "state[T.AZ]                   -5.345e+04    8.5e+04     -0.629      0.533   -2.26e+05    1.19e+05\n",
            "state[T.BC]                    3.664e+04   8.78e+04      0.417      0.679   -1.42e+05    2.15e+05\n",
            "state[T.CA]                   -6.909e+04   7.85e+04     -0.881      0.385   -2.28e+05    9.02e+04\n",
            "state[T.CO]                   -1.573e+05   1.16e+05     -1.361      0.182   -3.92e+05    7.74e+04\n",
            "state[T.CT]                   -1.677e+05   1.01e+05     -1.666      0.105   -3.72e+05    3.67e+04\n",
            "state[T.FL]                   -8.105e+04   7.69e+04     -1.054      0.299   -2.37e+05    7.51e+04\n",
            "state[T.GA]                    -2.26e+04   7.69e+04     -0.294      0.771   -1.79e+05    1.34e+05\n",
            "state[T.IL]                   -6.505e+04   8.46e+04     -0.769      0.447   -2.37e+05    1.07e+05\n",
            "state[T.IN]                   -8.394e+04   8.54e+04     -0.983      0.332   -2.57e+05    8.94e+04\n",
            "state[T.KS]                   -3.865e+04   9.88e+04     -0.391      0.698   -2.39e+05    1.62e+05\n",
            "state[T.KY]                   -4.905e+04   9.26e+04     -0.530      0.600   -2.37e+05    1.39e+05\n",
            "state[T.LA]                   -1.066e+05   8.62e+04     -1.236      0.225   -2.82e+05    6.84e+04\n",
            "state[T.MA]                   -1.127e+05   9.92e+04     -1.137      0.263   -3.14e+05    8.86e+04\n",
            "state[T.MD]                   -4.139e+04   1.02e+05     -0.407      0.686   -2.48e+05    1.65e+05\n",
            "state[T.ME]                   -4.716e+04    9.4e+04     -0.502      0.619   -2.38e+05    1.44e+05\n",
            "state[T.MI]                   -1.062e+04   8.61e+04     -0.123      0.903   -1.85e+05    1.64e+05\n",
            "state[T.MN]                    1.251e+05   1.03e+05      1.209      0.235   -8.49e+04    3.35e+05\n",
            "state[T.MO]                   -1.602e+04   9.57e+04     -0.167      0.868    -2.1e+05    1.78e+05\n",
            "state[T.NC]                   -6.186e+04   8.67e+04     -0.714      0.480   -2.38e+05    1.14e+05\n",
            "state[T.ND]                    7.309e+04   9.96e+04      0.734      0.468   -1.29e+05    2.75e+05\n",
            "state[T.NE]                   -3.828e+04   9.82e+04     -0.390      0.699   -2.38e+05    1.61e+05\n",
            "state[T.NH]                   -6.208e+04   8.26e+04     -0.751      0.457    -2.3e+05    1.06e+05\n",
            "state[T.NJ]                   -4.672e+04   8.26e+04     -0.566      0.575   -2.14e+05    1.21e+05\n",
            "state[T.NM]                   -2.047e+04   9.75e+04     -0.210      0.835   -2.18e+05    1.77e+05\n",
            "state[T.NY]                    -9.99e+04   7.81e+04     -1.279      0.209   -2.58e+05    5.87e+04\n",
            "state[T.OH]                   -6.121e+04   8.12e+04     -0.754      0.456   -2.26e+05    1.04e+05\n",
            "state[T.OK]                   -5.822e+04   8.69e+04     -0.670      0.507   -2.35e+05    1.18e+05\n",
            "state[T.ON]                    -5.56e+04   8.18e+04     -0.680      0.501   -2.22e+05     1.1e+05\n",
            "state[T.OR]                   -7.349e+04   1.01e+05     -0.725      0.474   -2.79e+05    1.32e+05\n",
            "state[T.PA]                   -1.218e+05   8.28e+04     -1.471      0.150    -2.9e+05    4.63e+04\n",
            "state[T.RI]                   -2.761e+04   1.02e+05     -0.270      0.788   -2.35e+05     1.8e+05\n",
            "state[T.SC]                   -5.238e+04   9.73e+04     -0.539      0.594    -2.5e+05    1.45e+05\n",
            "state[T.SD]                   -3.739e+04    9.7e+04     -0.386      0.702   -2.34e+05    1.59e+05\n",
            "state[T.TN]                   -4.874e+04   8.41e+04     -0.579      0.566    -2.2e+05    1.22e+05\n",
            "state[T.TX]                    -5.66e+04   8.01e+04     -0.707      0.484   -2.19e+05    1.06e+05\n",
            "state[T.VA]                   -6.927e+04   8.45e+04     -0.819      0.418   -2.41e+05    1.02e+05\n",
            "state[T.WA]                   -8.672e+04   7.94e+04     -1.093      0.282   -2.48e+05    7.44e+04\n",
            "state[T.WV]                   -1.143e+05   9.65e+04     -1.185      0.244    -3.1e+05    8.16e+04\n",
            "client_owned_location[T.True]  4392.4047   2.25e+04      0.195      0.847   -4.14e+04    5.01e+04\n",
            "attendance                       53.8856      3.700     14.564      0.000      46.374      61.397\n",
            "average_ticket_price             1.6e+04   1952.663      8.196      0.000     1.2e+04       2e+04\n",
            "location_capacity                 2.9959      2.991      1.002      0.323      -3.076       9.068\n",
            "==============================================================================\n",
            "Omnibus:                        4.766   Durbin-Watson:                   1.913\n",
            "Prob(Omnibus):                  0.092   Jarque-Bera (JB):                5.606\n",
            "Skew:                          -0.195   Prob(JB):                       0.0606\n",
            "Kurtosis:                       4.220   Cond. No.                     1.73e+06\n",
            "==============================================================================\n",
            "\n",
            "Notes:\n",
            "[1] Standard Errors assume that the covariance matrix of the errors is correctly specified.\n",
            "[2] The condition number is large, 1.73e+06. This might indicate that there are\n",
            "strong multicollinearity or other numerical problems.\n"
          ]
        }
      ]
    },
    {
      "cell_type": "markdown",
      "source": [
        "Create the scatter plot to compare the predicted and observed values."
      ],
      "metadata": {
        "id": "ZxYNEZliZT1c"
      }
    },
    {
      "cell_type": "code",
      "source": [
        "import matplotlib.pyplot as plt\n",
        "\n",
        "observed_values = new_result.fittedvalues + new_result.resid\n",
        "\n",
        "fig, ax = plt.subplots()\n",
        "ax.scatter(new_result.fittedvalues, observed_values)\n",
        "ax.set_xlabel('Predicted')\n",
        "ax.set_ylabel('Observed')\n",
        "\n",
        "x = new_result.fittedvalues\n",
        "y = observed_values\n",
        "z = np.polyfit(x, y, 1)\n",
        "p = np.poly1d(z)\n",
        "\n",
        "plt.scatter(x, y)\n",
        "plt.plot(x, p(x), 'gray')\n",
        "\n",
        "plt.show()"
      ],
      "metadata": {
        "colab": {
          "base_uri": "https://localhost:8080/",
          "height": 465
        },
        "id": "3DOu4Y2LXv9k",
        "outputId": "9c0b1b5c-bad5-4fb9-b33e-6e6fb9db19c0"
      },
      "execution_count": 15,
      "outputs": [
        {
          "output_type": "display_data",
          "data": {
            "text/plain": [
              "<Figure size 640x480 with 1 Axes>"
            ],
            "image/png": "[encoded data removed]"
          },
          "metadata": {}
        }
      ]
    },
    {
      "cell_type": "code",
      "source": [
        "##grouped_new.to_csv('grouped_new.csv')\n",
        "##prediction = new_result.predict(grouped_new)\n",
        "##prediction.to_csv('prediction.csv', index=True)\n",
        "##df.to_csv('df.csv')"
      ],
      "metadata": {
        "id": "2zeP0eDAbmIw"
      },
      "execution_count": 16,
      "outputs": []
    }
  ]
}