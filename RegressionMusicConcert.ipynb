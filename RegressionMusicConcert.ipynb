{
  "nbformat": 4,
  "nbformat_minor": 0,
  "metadata": {
    "colab": {
      "provenance": []
    },
    "kernelspec": {
      "name": "python3",
      "display_name": "Python 3"
    },
    "language_info": {
      "name": "python"
    }
  },
  "cells": [
    {
      "cell_type": "markdown",
      "source": [
        "The simulated input data contains the following fields.\n",
        "* event_id\n",
        "* artist_id\n",
        "* location_id\n",
        "* start_date\n",
        "* attendance\n",
        "* average_ticket_price\n",
        "\n",
        "The location_id column encodes additional information about the locations in the ID itself, following one of two schemas.\n",
        "* LOC-[Type][Capacity][State]-[ID]\n",
        "* LOC-[Type][Capacity][State]-[Ownership Flag]-[ID]\n",
        "For example, the location ID LOC-Arena20000FL-8521e4fd-672c represents a non-client owned Arena with a capacity of 20000 in Florida, while the location ID LOC-Arena100000CA-Own-8521e4fd-672c represents as a client owned Arena with a capacity of 100000 in California."
      ],
      "metadata": {
        "id": "BbvmNEquF0ai"
      }
    },
    {
      "cell_type": "code",
      "execution_count": 1,
      "metadata": {
        "colab": {
          "base_uri": "https://localhost:8080/"
        },
        "id": "GW1bPXtBFnEW",
        "outputId": "c3ecd06e-c764-4fca-e79f-0a2cfc48fb8f"
      },
      "outputs": [
        {
          "output_type": "stream",
          "name": "stdout",
          "text": [
            "            event_id          artist_id                         location_id  \\\n",
            "0  EVT-3adca30d-b5ea  ART-4de1a19c-0779      LOC-Arena16800OH-621a3f60-24c0   \n",
            "1  EVT-bc114a58-3eaf  ART-4de1a19c-0779  LOC-Arena15200NY-Own-334a8797-8708   \n",
            "2  EVT-78a9775c-5eee  ART-4de1a19c-0779  LOC-Arena15200NY-Own-334a8797-8708   \n",
            "3  EVT-cf249300-7259  ART-4de1a19c-0779  LOC-Arena15200NY-Own-334a8797-8708   \n",
            "4  EVT-54753efb-60ca  ART-4de1a19c-0779  LOC-Arena14400OK-Own-226f9270-4eb6   \n",
            "\n",
            "  start_date  attendance  average_ticket_price  \n",
            "0     1/2/14       10542                 41.45  \n",
            "1    1/11/14       11390                 57.35  \n",
            "2    8/29/14       11482                 57.36  \n",
            "3    2/15/17         152                 59.63  \n",
            "4    1/17/14        9513                 42.79  \n"
          ]
        }
      ],
      "source": [
        "import pandas as pd\n",
        "import numpy as np\n",
        "\n",
        "df = pd.read_csv('music_concert.csv')\n",
        "print(df.head())"
      ]
    },
    {
      "cell_type": "markdown",
      "source": [
        "The following code section translates the location IDs into the location type, capacity,\n",
        "ownership type, and state. And the estimated total revenue is calculated by multiplying attendance with average ticket price.\n"
      ],
      "metadata": {
        "id": "OydduA3aJuXW"
      }
    },
    {
      "cell_type": "code",
      "source": [
        "location_detail = df['location_id'].str.split('-', expand=True)\n",
        "df[['location_type', 'location_capacity', 'state']] \\\n",
        "  = location_detail[1].str.extract(r'(\\D+)(\\d+)(\\D+)')\n",
        "df['client_owned_location'] = df['location_id'].str.contains('-Own-')\n",
        "df['total_revenue'] = df['attendance'] * df['average_ticket_price']\n",
        "print(df.head())"
      ],
      "metadata": {
        "colab": {
          "base_uri": "https://localhost:8080/"
        },
        "id": "JYEYBTfWKB1g",
        "outputId": "b4cc5917-6620-4606-e0f9-f9e274d430c5"
      },
      "execution_count": 2,
      "outputs": [
        {
          "output_type": "stream",
          "name": "stdout",
          "text": [
            "            event_id          artist_id                         location_id  \\\n",
            "0  EVT-3adca30d-b5ea  ART-4de1a19c-0779      LOC-Arena16800OH-621a3f60-24c0   \n",
            "1  EVT-bc114a58-3eaf  ART-4de1a19c-0779  LOC-Arena15200NY-Own-334a8797-8708   \n",
            "2  EVT-78a9775c-5eee  ART-4de1a19c-0779  LOC-Arena15200NY-Own-334a8797-8708   \n",
            "3  EVT-cf249300-7259  ART-4de1a19c-0779  LOC-Arena15200NY-Own-334a8797-8708   \n",
            "4  EVT-54753efb-60ca  ART-4de1a19c-0779  LOC-Arena14400OK-Own-226f9270-4eb6   \n",
            "\n",
            "  start_date  attendance  average_ticket_price location_type  \\\n",
            "0     1/2/14       10542                 41.45         Arena   \n",
            "1    1/11/14       11390                 57.35         Arena   \n",
            "2    8/29/14       11482                 57.36         Arena   \n",
            "3    2/15/17         152                 59.63         Arena   \n",
            "4    1/17/14        9513                 42.79         Arena   \n",
            "\n",
            "  location_capacity state  client_owned_location  total_revenue  \n",
            "0             16800    OH                  False      436965.90  \n",
            "1             15200    NY                   True      653216.50  \n",
            "2             15200    NY                   True      658607.52  \n",
            "3             15200    NY                   True        9063.76  \n",
            "4             14400    OK                   True      407061.27  \n"
          ]
        }
      ]
    },
    {
      "cell_type": "code",
      "source": [
        "print(df['attendance'].describe())\n",
        "print(df['average_ticket_price'].describe())\n",
        "print(df['location_capacity'].astype(float).describe())"
      ],
      "metadata": {
        "colab": {
          "base_uri": "https://localhost:8080/"
        },
        "id": "ZtYLJfCw7c5D",
        "outputId": "676c6aed-1e4a-4bb8-e44b-6b089f429af5"
      },
      "execution_count": 3,
      "outputs": [
        {
          "output_type": "stream",
          "name": "stdout",
          "text": [
            "count      289.000000\n",
            "mean     12651.525952\n",
            "std       6633.985202\n",
            "min        116.000000\n",
            "25%       8548.000000\n",
            "50%      11922.000000\n",
            "75%      14910.000000\n",
            "max      52800.000000\n",
            "Name: attendance, dtype: float64\n",
            "count    286.000000\n",
            "mean      45.816643\n",
            "std       12.893347\n",
            "min       23.610000\n",
            "25%       35.397500\n",
            "50%       43.525000\n",
            "75%       55.525000\n",
            "max       88.180000\n",
            "Name: average_ticket_price, dtype: float64\n",
            "count      289.000000\n",
            "mean     17076.387543\n",
            "std       8989.097812\n",
            "min       1040.000000\n",
            "25%      12800.000000\n",
            "50%      16000.000000\n",
            "75%      16800.000000\n",
            "max      60900.000000\n",
            "Name: location_capacity, dtype: float64\n"
          ]
        }
      ]
    },
    {
      "cell_type": "markdown",
      "source": [
        "The following sections calculate the average attendance and average ticket price by location type."
      ],
      "metadata": {
        "id": "9aXdpL5DK4Ul"
      }
    },
    {
      "cell_type": "code",
      "source": [
        "df.groupby(['location_type'])['attendance'].mean()"
      ],
      "metadata": {
        "colab": {
          "base_uri": "https://localhost:8080/"
        },
        "id": "wGTKHx5TLHgh",
        "outputId": "1cf9c243-e161-4db0-d080-7109002b7aa2"
      },
      "execution_count": 4,
      "outputs": [
        {
          "output_type": "execute_result",
          "data": {
            "text/plain": [
              "location_type\n",
              "Amphitheatre    12946.529412\n",
              "Arena            8087.463158\n",
              "Club              481.000000\n",
              "Stadium         29851.782609\n",
              "Name: attendance, dtype: float64"
            ]
          },
          "metadata": {},
          "execution_count": 4
        }
      ]
    },
    {
      "cell_type": "code",
      "source": [
        "df.groupby(['location_type'])['average_ticket_price'].mean()"
      ],
      "metadata": {
        "colab": {
          "base_uri": "https://localhost:8080/"
        },
        "id": "9S7vAW8ZLXn0",
        "outputId": "608ee42d-3a85-479b-92a9-4d0768baea9c"
      },
      "execution_count": 5,
      "outputs": [
        {
          "output_type": "execute_result",
          "data": {
            "text/plain": [
              "location_type\n",
              "Amphitheatre    38.410952\n",
              "Arena           54.830319\n",
              "Club            38.800000\n",
              "Stadium         63.376957\n",
              "Name: average_ticket_price, dtype: float64"
            ]
          },
          "metadata": {},
          "execution_count": 5
        }
      ]
    },
    {
      "cell_type": "markdown",
      "source": [
        "The following sections calculate the row count, average, standard deviation, variance, median, minimum, and maximum of the attendance and average ticket price by location type."
      ],
      "metadata": {
        "id": "IRhcq1-NMJAL"
      }
    },
    {
      "cell_type": "code",
      "source": [
        "aggs_attendance = df.groupby('location_type')['attendance']\\\n",
        "  .agg([np.size, np.mean, np.std, np.var, np.median, np.min, np.max])\n",
        "print(aggs_attendance)"
      ],
      "metadata": {
        "colab": {
          "base_uri": "https://localhost:8080/"
        },
        "id": "KFy8mt1xMJ52",
        "outputId": "c17146be-a7a1-4a91-9bd8-70d5dfc3fad7"
      },
      "execution_count": 6,
      "outputs": [
        {
          "output_type": "stream",
          "name": "stdout",
          "text": [
            "               size          mean          std           var   median   amin  \\\n",
            "location_type                                                                  \n",
            "Amphitheatre    170  12946.529412  3095.966187  9.585007e+06  13220.0   5642   \n",
            "Arena            95   8087.463158  2506.118372  6.280629e+06   7831.0    116   \n",
            "Club              1    481.000000          NaN           NaN    481.0    481   \n",
            "Stadium          23  29851.782609  8307.205437  6.900966e+07  29450.0  17360   \n",
            "\n",
            "                amax  \n",
            "location_type         \n",
            "Amphitheatre   20401  \n",
            "Arena          14910  \n",
            "Club             481  \n",
            "Stadium        52800  \n"
          ]
        }
      ]
    },
    {
      "cell_type": "code",
      "source": [
        "aggs_average_ticket_price = df.groupby('location_type')['average_ticket_price']\\\n",
        "  .agg([np.size, np.mean, np.std, np.var, np.median, np.min, np.max])\n",
        "print(aggs_average_ticket_price)"
      ],
      "metadata": {
        "colab": {
          "base_uri": "https://localhost:8080/"
        },
        "id": "idaZK_d8MaDc",
        "outputId": "3139a94f-3d90-40d8-a60e-8f8a3033c1ec"
      },
      "execution_count": 7,
      "outputs": [
        {
          "output_type": "stream",
          "name": "stdout",
          "text": [
            "               size       mean       std        var  median   amin   amax\n",
            "location_type                                                            \n",
            "Amphitheatre    170  38.410952  9.674380  93.593635  36.590  23.61  78.81\n",
            "Arena            95  54.830319  7.885108  62.174924  54.445  32.20  73.87\n",
            "Club              1  38.800000       NaN        NaN  38.800  38.80  38.80\n",
            "Stadium          23  63.376957  9.469868  89.678395  62.450  46.08  88.18\n"
          ]
        }
      ]
    },
    {
      "cell_type": "markdown",
      "source": [
        "The following section calculates the same attendance statistics by state, and sorted by attendance in descending order."
      ],
      "metadata": {
        "id": "smH8JQw_Mq9L"
      }
    },
    {
      "cell_type": "code",
      "source": [
        "aggs_attendance = df.groupby('state')['attendance']\\\n",
        "  .agg([np.size, np.mean, np.std, np.var, np.median, np.min, np.max])\n",
        "aggs_attendance.sort_values(by=['mean'], inplace=True, ascending=False)\n",
        "print(aggs_attendance)"
      ],
      "metadata": {
        "colab": {
          "base_uri": "https://localhost:8080/"
        },
        "id": "Libdo6rUMyvC",
        "outputId": "acd9ffcd-af0a-4172-b107-b51639e2909e"
      },
      "execution_count": 8,
      "outputs": [
        {
          "output_type": "stream",
          "name": "stdout",
          "text": [
            "       size          mean           std           var   median   amin   amax\n",
            "state                                                                       \n",
            "CO        2  37996.000000    913.581961  8.346320e+05  37996.0  37350  38642\n",
            "MN        3  31800.333333   4834.813578  2.337542e+07  32062.0  26840  36499\n",
            "PA       14  19859.285714  11014.894150  1.213279e+08  17020.5   6603  52800\n",
            "MI        3  19561.000000  11206.509671  1.255859e+08  19578.0   8346  30759\n",
            "CT        1  18522.000000           NaN           NaN  18522.0  18522  18522\n",
            "ON        6  16390.333333   8345.540670  6.964805e+07  12383.5  11448  32846\n",
            "OH       23  14825.000000   4086.402619  1.669869e+07  15662.0   5892  29450\n",
            "BC        3  14609.000000   9335.638543  8.715415e+07  11311.0   7370  25146\n",
            "NJ       18  14329.611111   5497.386290  3.022126e+07  13255.0   9311  34486\n",
            "WA        4  13733.750000   3728.988815  1.390536e+07  13458.0   9697  18322\n",
            "VA       25  13223.520000   3331.294870  1.109753e+07  14666.0   7117  17626\n",
            "MA        1  13006.000000           NaN           NaN  13006.0  13006  13006\n",
            "CA       30  12777.300000   5884.322544  3.462525e+07  11424.5   6758  34360\n",
            "TN        4  12585.250000   7915.237641  6.265099e+07  10491.5   5449  23909\n",
            "AZ        6  12582.000000   3090.821315  9.553176e+06  13408.0   6455  14809\n",
            "NC       11  12262.818182   3182.642638  1.012921e+07  12623.0   5427  15717\n",
            "IL       12  11988.750000   9521.159871  9.065249e+07   9097.5   5930  40422\n",
            "FL       19  11907.210526   5698.829691  3.247666e+07  12505.0   4602  31200\n",
            "KY        3  11854.333333   2520.837625  6.354622e+06  12266.0   9153  14144\n",
            "KS        2  11687.000000   3098.541915  9.600962e+06  11687.0   9496  13878\n",
            "NY       21  11647.428571   4968.219415  2.468320e+07  11482.0    152  19707\n",
            "MO        2  11381.000000   2610.638236  6.815432e+06  11381.0   9535  13227\n",
            "GA       10  11284.100000   4584.678941  2.101928e+07  10902.0   4480  19262\n",
            "TX       16   9952.000000   3392.369948  1.150817e+07   9346.0   4563  17600\n",
            "NE        5   9592.400000   1891.479395  3.577694e+06   9202.0   7105  11770\n",
            "OR        1   9525.000000           NaN           NaN   9525.0   9525   9525\n",
            "ND        2   9440.000000   5959.495952  3.551559e+07   9440.0   5226  13654\n",
            "MD        1   9435.000000           NaN           NaN   9435.0   9435   9435\n",
            "ME        4   8563.750000   1935.156217  3.744830e+06   8747.5   6264  10496\n",
            "NM        1   8236.000000           NaN           NaN   8236.0   8236   8236\n",
            "AR        2   8122.000000   3190.465797  1.017907e+07   8122.0   5866  10378\n",
            "LA        7   7958.142857   1259.962755  1.587506e+06   7327.0   6353   9834\n",
            "SD        2   7684.000000    265.872150  7.068800e+04   7684.0   7496   7872\n",
            "SC        3   7585.666667   1551.485847  2.407108e+06   7714.0   5974   9069\n",
            "OK        6   7287.166667   2406.348555  5.790513e+06   7295.5   4682  10115\n",
            "NH        7   6524.571429    302.141720  9.128962e+04   6373.0   6260   6994\n",
            "AL        2   6369.000000    951.765727  9.058580e+05   6369.0   5696   7042\n",
            "IN        3   6287.333333    981.195869  9.627453e+05   6800.0   5156   6906\n",
            "WV        3   6021.333333   1088.391627  1.184596e+06   5674.0   5149   7241\n",
            "RI        1    116.000000           NaN           NaN    116.0    116    116\n"
          ]
        }
      ]
    },
    {
      "cell_type": "markdown",
      "source": [
        "The following section calculates the total revenue statistics by state, and sorted by attendance in descending order."
      ],
      "metadata": {
        "id": "BaiJsYLfNMJH"
      }
    },
    {
      "cell_type": "code",
      "source": [
        "aggs_total_revenue = df.groupby('state')['total_revenue']\\\n",
        "  .agg([np.mean, np.std, np.var, np.median, np.min, np.max])\n",
        "aggs_total_revenue.sort_values(by=['mean'], inplace=True, ascending=False)\n",
        "print(aggs_total_revenue)"
      ],
      "metadata": {
        "colab": {
          "base_uri": "https://localhost:8080/"
        },
        "id": "QwN7KFQPNLoM",
        "outputId": "72a47584-d998-4872-f92b-edd34d959a01"
      },
      "execution_count": 9,
      "outputs": [
        {
          "output_type": "stream",
          "name": "stdout",
          "text": [
            "               mean            std           var       median        amin  \\\n",
            "state                                                                       \n",
            "MN     2.247079e+06  540121.559804  2.917313e+11  2228629.620  1716418.00   \n",
            "CO     2.163479e+06   50944.667706  2.595359e+09  2163479.320  2127456.00   \n",
            "MI     1.279677e+06  885025.269147  7.832697e+11  1220492.520   425729.46   \n",
            "BC     1.064139e+06  999228.661063  9.984579e+11   519061.790   455981.90   \n",
            "ON     1.022657e+06  738336.373509  5.451406e+11   700431.965   561836.73   \n",
            "PA     8.290438e+05  660619.397236  4.364180e+11   533079.990   227935.56   \n",
            "TN     7.644420e+05  586667.271113  3.441785e+11   555141.935   331953.08   \n",
            "MA     7.110380e+05            NaN           NaN   711038.020   711038.02   \n",
            "WA     6.979959e+05  273337.928986  7.471362e+10   707589.960   354619.29   \n",
            "NJ     6.790318e+05  394676.063258  1.557692e+11   604938.400   441015.60   \n",
            "CT     6.201166e+05            NaN           NaN   620116.560   620116.56   \n",
            "IL     6.052926e+05  573597.497792  3.290141e+11   456093.840   302430.00   \n",
            "CA     6.013824e+05  416376.586168  1.733695e+11   497391.330   259080.54   \n",
            "KY     5.422807e+05   75402.472099  5.685533e+09   580304.460   455436.80   \n",
            "OR     5.324475e+05            NaN           NaN   532447.500   532447.50   \n",
            "NY     5.284819e+05  210665.370867  4.437990e+10   555294.660     9063.76   \n",
            "OH     5.258273e+05  282666.279335  7.990023e+10   470793.120   322999.44   \n",
            "AZ     5.055935e+05   95013.403594  9.027547e+09   529485.510   333594.40   \n",
            "MD     5.051499e+05            NaN           NaN   505149.900   505149.90   \n",
            "FL     5.004468e+05  294993.830092  8.702136e+10   462313.800   249428.40   \n",
            "NE     4.925593e+05   86484.864850  7.479632e+09   463306.000   425731.60   \n",
            "VA     4.792966e+05  102376.671686  1.048098e+10   491267.700   299072.56   \n",
            "LA     4.633516e+05   50301.664246  2.530257e+09   440475.840   414660.31   \n",
            "GA     4.527922e+05  251410.859684  6.320742e+10   414599.570   229286.40   \n",
            "NM     4.253894e+05            NaN           NaN   425389.400   425389.40   \n",
            "AR     4.195623e+05  151932.484398  2.308348e+10   419562.350   312129.86   \n",
            "SD     4.153704e+05   27114.264083  7.351833e+08   415370.440   396197.76   \n",
            "ME     4.071496e+05  101237.601009  1.024905e+10   402538.880   296412.48   \n",
            "TX     4.064064e+05  116218.963431  1.350685e+10   412038.800   220986.09   \n",
            "KS     4.022934e+05   42631.637543  1.817457e+09   402293.360   372148.24   \n",
            "SC     4.013671e+05   42905.612185  1.840892e+09   379229.520   374051.86   \n",
            "NC     3.931270e+05   65100.264369  4.238044e+09   414368.640   271892.24   \n",
            "OK     3.818229e+05  105028.323858  1.103095e+10   370710.230   265188.48   \n",
            "MO     3.811532e+05   48330.147453  2.335803e+09   381153.225   346978.65   \n",
            "WV     3.703866e+05   72352.232553  5.234846e+09   411071.570   286850.79   \n",
            "NH     3.641137e+05   29297.508279  8.583440e+08   361417.635   318856.46   \n",
            "IN     3.513437e+05   21949.391322  4.817758e+08   345921.540   332613.56   \n",
            "AL     2.832560e+05     958.044836  9.178499e+05   283256.000   282578.56   \n",
            "ND     2.317731e+05            NaN           NaN   231773.100   231773.10   \n",
            "RI     6.124800e+03            NaN           NaN     6124.800     6124.80   \n",
            "\n",
            "             amax  \n",
            "state              \n",
            "MN     2796188.39  \n",
            "CO     2199502.64  \n",
            "MI     2192809.11  \n",
            "BC     2217374.28  \n",
            "ON     2483814.52  \n",
            "PA     2547072.00  \n",
            "TN     1615531.13  \n",
            "MA      711038.02  \n",
            "WA     1022184.38  \n",
            "NJ     2222967.56  \n",
            "CT      620116.56  \n",
            "IL     2402683.68  \n",
            "CA     2148187.20  \n",
            "KY      591100.74  \n",
            "OR      532447.50  \n",
            "NY      851463.24  \n",
            "OH     1770534.00  \n",
            "AZ      599617.70  \n",
            "MD      505149.90  \n",
            "FL     1650480.00  \n",
            "NE      641347.30  \n",
            "VA      729017.62  \n",
            "LA      541245.49  \n",
            "GA     1117196.00  \n",
            "NM      425389.40  \n",
            "AR      526994.84  \n",
            "SD      434543.12  \n",
            "ME      527108.04  \n",
            "TX      737616.00  \n",
            "KS      432438.48  \n",
            "SC      450819.99  \n",
            "NC      480737.27  \n",
            "OK      550256.00  \n",
            "MO      415327.80  \n",
            "WV      413237.42  \n",
            "NH      408730.08  \n",
            "IN      375496.00  \n",
            "AL      283933.44  \n",
            "ND      231773.10  \n",
            "RI        6124.80  \n"
          ]
        }
      ]
    },
    {
      "cell_type": "markdown",
      "source": [
        "The following section uses the statsmodels function to create a regression model based on the input data."
      ],
      "metadata": {
        "id": "VoHEx914TzqU"
      }
    },
    {
      "cell_type": "code",
      "source": [
        "import statsmodels.formula.api as smf\n",
        "\n",
        "model = smf.ols(formula='total_revenue ~ \\\n",
        "  attendance + average_ticket_price + \\\n",
        "  location_type + \\\n",
        "  location_capacity.astype(float) + \\\n",
        "  state + client_owned_location', data=df)\n",
        "result = model.fit()\n",
        "print(result.summary())"
      ],
      "metadata": {
        "colab": {
          "base_uri": "https://localhost:8080/"
        },
        "id": "7gcepSF0R4Ds",
        "outputId": "dd929d82-7efa-421b-a5f5-b1a96a00cdbf"
      },
      "execution_count": 10,
      "outputs": [
        {
          "output_type": "stream",
          "name": "stdout",
          "text": [
            "                            OLS Regression Results                            \n",
            "==============================================================================\n",
            "Dep. Variable:          total_revenue   R-squared:                       0.983\n",
            "Model:                            OLS   Adj. R-squared:                  0.980\n",
            "Method:                 Least Squares   F-statistic:                     307.5\n",
            "Date:                Tue, 30 May 2023   Prob (F-statistic):          5.13e-188\n",
            "Time:                        20:44:37   Log-Likelihood:                -3527.8\n",
            "No. Observations:                 286   AIC:                             7150.\n",
            "Df Residuals:                     239   BIC:                             7321.\n",
            "Df Model:                          46                                         \n",
            "Covariance Type:            nonrobust                                         \n",
            "===================================================================================================\n",
            "                                      coef    std err          t      P>|t|      [0.025      0.975]\n",
            "---------------------------------------------------------------------------------------------------\n",
            "Intercept                       -5.817e+05   5.15e+04    -11.306      0.000   -6.83e+05    -4.8e+05\n",
            "location_type[T.Arena]           -2.15e+04    1.3e+04     -1.658      0.099    -4.7e+04    4048.701\n",
            "location_type[T.Club]             1.64e+05   6.58e+04      2.492      0.013    3.44e+04    2.94e+05\n",
            "location_type[T.Stadium]         2.318e+05   4.48e+04      5.176      0.000    1.44e+05     3.2e+05\n",
            "state[T.AR]                     -1.366e+04    6.2e+04     -0.220      0.826   -1.36e+05    1.09e+05\n",
            "state[T.AZ]                     -5.258e+04   5.09e+04     -1.032      0.303   -1.53e+05    4.78e+04\n",
            "state[T.BC]                      5.828e+04   5.72e+04      1.020      0.309   -5.43e+04    1.71e+05\n",
            "state[T.CA]                     -2.603e+04   4.53e+04     -0.575      0.566   -1.15e+05    6.32e+04\n",
            "state[T.CO]                     -5.954e+04   6.97e+04     -0.854      0.394   -1.97e+05    7.78e+04\n",
            "state[T.CT]                      -1.11e+05   7.55e+04     -1.470      0.143    -2.6e+05    3.78e+04\n",
            "state[T.FL]                      -4.89e+04   4.61e+04     -1.061      0.290    -1.4e+05    4.19e+04\n",
            "state[T.GA]                     -5.314e+04    4.8e+04     -1.106      0.270   -1.48e+05    4.15e+04\n",
            "state[T.IL]                     -2.646e+04    4.8e+04     -0.551      0.582   -1.21e+05    6.81e+04\n",
            "state[T.IN]                     -5.966e+04   5.63e+04     -1.060      0.290   -1.71e+05    5.12e+04\n",
            "state[T.KS]                     -4.532e+04   6.19e+04     -0.732      0.465   -1.67e+05    7.66e+04\n",
            "state[T.KY]                     -4.179e+04   5.79e+04     -0.721      0.471   -1.56e+05    7.23e+04\n",
            "state[T.LA]                     -7.421e+04   5.07e+04     -1.463      0.145   -1.74e+05    2.57e+04\n",
            "state[T.MA]                     -4.187e+04   7.54e+04     -0.555      0.579    -1.9e+05    1.07e+05\n",
            "state[T.MD]                     -3.912e+04   7.58e+04     -0.516      0.606   -1.88e+05     1.1e+05\n",
            "state[T.ME]                     -1.439e+04   5.24e+04     -0.274      0.784   -1.18e+05    8.89e+04\n",
            "state[T.MI]                     -1.385e+04   5.71e+04     -0.243      0.808   -1.26e+05    9.86e+04\n",
            "state[T.MN]                      1.885e+05   5.89e+04      3.200      0.002    7.24e+04    3.04e+05\n",
            "state[T.MO]                     -8179.5187   6.09e+04     -0.134      0.893   -1.28e+05    1.12e+05\n",
            "state[T.NC]                     -4.174e+04   4.77e+04     -0.875      0.383   -1.36e+05    5.23e+04\n",
            "state[T.ND]                      3.321e+04   7.49e+04      0.444      0.658   -1.14e+05    1.81e+05\n",
            "state[T.NE]                      -1.29e+04   5.24e+04     -0.246      0.806   -1.16e+05    9.03e+04\n",
            "state[T.NH]                     -7.214e+04      5e+04     -1.443      0.150   -1.71e+05    2.63e+04\n",
            "state[T.NJ]                      -2.48e+04   4.61e+04     -0.538      0.591   -1.16e+05    6.61e+04\n",
            "state[T.NM]                     -9567.3605   7.49e+04     -0.128      0.898   -1.57e+05    1.38e+05\n",
            "state[T.NY]                     -6.672e+04   4.63e+04     -1.440      0.151   -1.58e+05    2.45e+04\n",
            "state[T.OH]                     -5.451e+04   4.59e+04     -1.188      0.236   -1.45e+05    3.59e+04\n",
            "state[T.OK]                     -4.501e+04   5.15e+04     -0.875      0.383   -1.46e+05    5.64e+04\n",
            "state[T.ON]                       1.05e+04   5.08e+04      0.207      0.836   -8.95e+04     1.1e+05\n",
            "state[T.OR]                      -4.47e+04   7.62e+04     -0.586      0.558   -1.95e+05    1.05e+05\n",
            "state[T.PA]                     -1.041e+05   4.74e+04     -2.195      0.029   -1.98e+05   -1.07e+04\n",
            "state[T.RI]                     -7.554e+04   7.57e+04     -0.997      0.320   -2.25e+05    7.37e+04\n",
            "state[T.SC]                      -2.94e+04   5.67e+04     -0.519      0.605   -1.41e+05    8.23e+04\n",
            "state[T.SD]                     -2.379e+04   6.15e+04     -0.387      0.699   -1.45e+05    9.73e+04\n",
            "state[T.TN]                     -3.108e+04   5.36e+04     -0.580      0.563   -1.37e+05    7.45e+04\n",
            "state[T.TX]                      -1.47e+04   4.61e+04     -0.319      0.750   -1.06e+05    7.61e+04\n",
            "state[T.VA]                     -4.296e+04    4.6e+04     -0.934      0.351   -1.34e+05    4.76e+04\n",
            "state[T.WA]                     -5.176e+04   5.32e+04     -0.972      0.332   -1.57e+05    5.31e+04\n",
            "state[T.WV]                     -8.213e+04   5.63e+04     -1.460      0.146   -1.93e+05    2.87e+04\n",
            "client_owned_location[T.True]    2.767e+04   1.15e+04      2.409      0.017    5046.110    5.03e+04\n",
            "attendance                         48.6536      1.381     35.243      0.000      45.934      51.373\n",
            "average_ticket_price             1.237e+04    514.407     24.042      0.000    1.14e+04    1.34e+04\n",
            "location_capacity.astype(float)    -0.1236      1.426     -0.087      0.931      -2.932       2.685\n",
            "==============================================================================\n",
            "Omnibus:                       44.390   Durbin-Watson:                   2.054\n",
            "Prob(Omnibus):                  0.000   Jarque-Bera (JB):              349.009\n",
            "Skew:                           0.241   Prob(JB):                     1.64e-76\n",
            "Kurtosis:                       8.390   Cond. No.                     1.88e+06\n",
            "==============================================================================\n",
            "\n",
            "Notes:\n",
            "[1] Standard Errors assume that the covariance matrix of the errors is correctly specified.\n",
            "[2] The condition number is large, 1.88e+06. This might indicate that there are\n",
            "strong multicollinearity or other numerical problems.\n"
          ]
        }
      ]
    },
    {
      "cell_type": "markdown",
      "source": [
        "[Dr. Vincent Granville](https://mltechniques.com/author/) helped improve this analysis by suggesting the following actions.\n",
        "* Create a scatter plot to compare the predicted and observed values. This visualization helps with understanding how the model performs.\n",
        "* Compute the correlation matrix between features, and between response and features. Very high correlation between two independent features  lead to potentially meaningless correlation coefficients for these two features, and again close to getting a singular matrix.\n",
        "* Instead of creating a regression model at the event level, create a regression model on aggregated data. Each observation can be an average, aggregated by bucket. You have as many observations as buckets (flag vectors), and you have much fewer features (independent variables) because event-level rows with null values are no longer features. This can help minimize overfitting too."
      ],
      "metadata": {
        "id": "28o2Q9LWVaQV"
      }
    },
    {
      "cell_type": "code",
      "source": [
        "import matplotlib.pyplot as plt\n",
        "\n",
        "fig, ax = plt.subplots()\n",
        "ax.scatter(result.fittedvalues, result.resid)\n",
        "ax.axhline(y=0, color='red', linestyle='--')\n",
        "ax.set_xlabel('Predicted')\n",
        "ax.set_ylabel('Residuals')\n",
        "plt.show()"
      ],
      "metadata": {
        "colab": {
          "base_uri": "https://localhost:8080/",
          "height": 449
        },
        "id": "he7foIe7HEiy",
        "outputId": "9a228673-c831-4089-bcb4-c9f2935f129b"
      },
      "execution_count": 11,
      "outputs": [
        {
          "output_type": "display_data",
          "data": {
            "text/plain": [
              "<Figure size 640x480 with 1 Axes>"
            ],
            "image/png": "[encoded data removed]"
          },
          "metadata": {}
        }
      ]
    },
    {
      "cell_type": "markdown",
      "source": [
        "The following heatmap chart shows the correlation between the features, and between the response and features. The total revenue is highly correlated with the attendance."
      ],
      "metadata": {
        "id": "O8Ey2eQBYyVW"
      }
    },
    {
      "cell_type": "code",
      "source": [
        "import seaborn as sns\n",
        "\n",
        "corr_matrix = df.corr(numeric_only='False')\n",
        "print(corr_matrix)\n",
        "sns.heatmap(corr_matrix, annot=True)"
      ],
      "metadata": {
        "colab": {
          "base_uri": "https://localhost:8080/",
          "height": 783
        },
        "id": "0nwZ-4okInR-",
        "outputId": "cc80cfa0-553c-42ca-f2bb-7dfd5a53479b"
      },
      "execution_count": 12,
      "outputs": [
        {
          "output_type": "stream",
          "name": "stdout",
          "text": [
            "                       attendance  average_ticket_price  \\\n",
            "attendance               1.000000             -0.024045   \n",
            "average_ticket_price    -0.024045              1.000000   \n",
            "client_owned_location   -0.033541              0.166596   \n",
            "total_revenue            0.877413              0.425942   \n",
            "\n",
            "                       client_owned_location  total_revenue  \n",
            "attendance                         -0.033541       0.877413  \n",
            "average_ticket_price                0.166596       0.425942  \n",
            "client_owned_location               1.000000       0.055164  \n",
            "total_revenue                       0.055164       1.000000  \n"
          ]
        },
        {
          "output_type": "execute_result",
          "data": {
            "text/plain": [
              "<Axes: >"
            ]
          },
          "metadata": {},
          "execution_count": 12
        },
        {
          "output_type": "display_data",
          "data": {
            "text/plain": [
              "<Figure size 640x480 with 2 Axes>"
            ],
            "image/png": "[encoded data removed]"
          },
          "metadata": {}
        }
      ]
    },
    {
      "cell_type": "markdown",
      "source": [
        "The following section transforms the original data set into an aggregated one."
      ],
      "metadata": {
        "id": "j05w5IwwZt0p"
      }
    },
    {
      "cell_type": "code",
      "source": [
        "new_data = df\n",
        "new_data.drop(['event_id', 'artist_id', 'location_id', 'start_date'], axis=1)\n",
        "grouped_new = new_data.groupby(['location_type', 'state', 'client_owned_location'])\\\n",
        "  .apply(lambda x: x[['attendance', 'average_ticket_price', 'location_capacity', \\\n",
        "                      'total_revenue']].mean())\n",
        "grouped_new = grouped_new.reset_index()\n",
        "print(grouped_new.head())\n",
        "print(grouped_new.info())"
      ],
      "metadata": {
        "colab": {
          "base_uri": "https://localhost:8080/"
        },
        "id": "d4u_Re6JMyQY",
        "outputId": "c7a8390d-3b9c-4db9-ac6e-411982b84cfa"
      },
      "execution_count": 13,
      "outputs": [
        {
          "output_type": "stream",
          "name": "stdout",
          "text": [
            "  location_type state  client_owned_location  attendance  \\\n",
            "0  Amphitheatre    AL                  False      6369.0   \n",
            "1  Amphitheatre    AZ                   True     13807.4   \n",
            "2  Amphitheatre    CA                  False     12424.4   \n",
            "3  Amphitheatre    CA                   True     13413.0   \n",
            "4  Amphitheatre    CT                  False     18522.0   \n",
            "\n",
            "   average_ticket_price  location_capacity  total_revenue  \n",
            "0                44.965       4.094409e+07    283256.0000  \n",
            "1                39.168       3.200032e+23    539993.3560  \n",
            "2                39.985       7.424074e+96    485138.7415  \n",
            "3                51.990       1.440000e+04    697341.8700  \n",
            "4                33.480       1.936900e+04    620116.5600  \n",
            "<class 'pandas.core.frame.DataFrame'>\n",
            "RangeIndex: 83 entries, 0 to 82\n",
            "Data columns (total 7 columns):\n",
            " #   Column                 Non-Null Count  Dtype  \n",
            "---  ------                 --------------  -----  \n",
            " 0   location_type          83 non-null     object \n",
            " 1   state                  83 non-null     object \n",
            " 2   client_owned_location  83 non-null     bool   \n",
            " 3   attendance             83 non-null     float64\n",
            " 4   average_ticket_price   82 non-null     float64\n",
            " 5   location_capacity      83 non-null     float64\n",
            " 6   total_revenue          82 non-null     float64\n",
            "dtypes: bool(1), float64(4), object(2)\n",
            "memory usage: 4.1+ KB\n",
            "None\n"
          ]
        }
      ]
    },
    {
      "cell_type": "markdown",
      "source": [
        "Rebuild the regression using the new data set."
      ],
      "metadata": {
        "id": "0ni1zJn0ZO4k"
      }
    },
    {
      "cell_type": "code",
      "source": [
        "import statsmodels.formula.api as smf\n",
        "\n",
        "model = smf.ols(formula='total_revenue ~ \\\n",
        "  attendance + average_ticket_price + \\\n",
        "  location_type + \\\n",
        "  location_capacity + \\\n",
        "  state + client_owned_location', data=grouped_new)\n",
        "result = model.fit()\n",
        "print(result.summary())"
      ],
      "metadata": {
        "colab": {
          "base_uri": "https://localhost:8080/"
        },
        "id": "3lmDetuHRBgk",
        "outputId": "36557fa2-df0d-42bd-a554-5ba9349bb0ae"
      },
      "execution_count": 14,
      "outputs": [
        {
          "output_type": "stream",
          "name": "stdout",
          "text": [
            "                            OLS Regression Results                            \n",
            "==============================================================================\n",
            "Dep. Variable:          total_revenue   R-squared:                      -1.428\n",
            "Model:                            OLS   Adj. R-squared:                 -1.428\n",
            "Method:                 Least Squares   F-statistic:                       nan\n",
            "Date:                Tue, 30 May 2023   Prob (F-statistic):                nan\n",
            "Time:                        20:44:39   Log-Likelihood:                -1241.5\n",
            "No. Observations:                  82   AIC:                             2485.\n",
            "Df Residuals:                      81   BIC:                             2487.\n",
            "Df Model:                           0                                         \n",
            "Covariance Type:            nonrobust                                         \n",
            "=================================================================================================\n",
            "                                    coef    std err          t      P>|t|      [0.025      0.975]\n",
            "-------------------------------------------------------------------------------------------------\n",
            "Intercept                     4.601e-113  8.65e-113      0.532      0.596  -1.26e-112   2.18e-112\n",
            "location_type[T.Arena]                 0          0        nan        nan           0           0\n",
            "location_type[T.Club]         5.372e-201          0        inf      0.000   5.37e-201   5.37e-201\n",
            "location_type[T.Stadium]      8.057e-200          0        inf      0.000   8.06e-200   8.06e-200\n",
            "state[T.AR]                   5.372e-201          0        inf      0.000   5.37e-201   5.37e-201\n",
            "state[T.AZ]                   1.074e-200          0        inf      0.000   1.07e-200   1.07e-200\n",
            "state[T.BC]                   1.074e-200          0        inf      0.000   1.07e-200   1.07e-200\n",
            "state[T.CA]                   3.223e-200          0        inf      0.000   3.22e-200   3.22e-200\n",
            "state[T.CO]                   5.372e-201          0        inf      0.000   5.37e-201   5.37e-201\n",
            "state[T.CT]                   5.372e-201          0        inf      0.000   5.37e-201   5.37e-201\n",
            "state[T.FL]                   2.686e-200          0        inf      0.000   2.69e-200   2.69e-200\n",
            "state[T.GA]                   2.686e-200          0        inf      0.000   2.69e-200   2.69e-200\n",
            "state[T.IL]                   1.611e-200          0        inf      0.000   1.61e-200   1.61e-200\n",
            "state[T.IN]                   1.074e-200          0        inf      0.000   1.07e-200   1.07e-200\n",
            "state[T.KS]                   5.372e-201          0        inf      0.000   5.37e-201   5.37e-201\n",
            "state[T.KY]                   1.074e-200          0        inf      0.000   1.07e-200   1.07e-200\n",
            "state[T.LA]                   1.074e-200          0        inf      0.000   1.07e-200   1.07e-200\n",
            "state[T.MA]                   5.372e-201          0        inf      0.000   5.37e-201   5.37e-201\n",
            "state[T.MD]                   5.372e-201          0        inf      0.000   5.37e-201   5.37e-201\n",
            "state[T.ME]                   5.372e-201          0        inf      0.000   5.37e-201   5.37e-201\n",
            "state[T.MI]                   1.074e-200          0        inf      0.000   1.07e-200   1.07e-200\n",
            "state[T.MN]                   5.372e-201          0        inf      0.000   5.37e-201   5.37e-201\n",
            "state[T.MO]                   5.372e-201          0        inf      0.000   5.37e-201   5.37e-201\n",
            "state[T.NC]                   1.074e-200          0        inf      0.000   1.07e-200   1.07e-200\n",
            "state[T.ND]                   5.372e-201          0        inf      0.000   5.37e-201   5.37e-201\n",
            "state[T.NE]                   5.372e-201          0        inf      0.000   5.37e-201   5.37e-201\n",
            "state[T.NH]                   1.074e-200          0        inf      0.000   1.07e-200   1.07e-200\n",
            "state[T.NJ]                   1.611e-200          0        inf      0.000   1.61e-200   1.61e-200\n",
            "state[T.NM]                   5.372e-201          0        inf      0.000   5.37e-201   5.37e-201\n",
            "state[T.NY]                   2.686e-200          0        inf      0.000   2.69e-200   2.69e-200\n",
            "state[T.OH]                   1.611e-200          0        inf      0.000   1.61e-200   1.61e-200\n",
            "state[T.OK]                   1.074e-200          0        inf      0.000   1.07e-200   1.07e-200\n",
            "state[T.ON]                   1.611e-200          0        inf      0.000   1.61e-200   1.61e-200\n",
            "state[T.OR]                   5.372e-201          0        inf      0.000   5.37e-201   5.37e-201\n",
            "state[T.PA]                   1.611e-200          0        inf      0.000   1.61e-200   1.61e-200\n",
            "state[T.RI]                   5.372e-201          0        inf      0.000   5.37e-201   5.37e-201\n",
            "state[T.SC]                   5.372e-201          0        inf      0.000   5.37e-201   5.37e-201\n",
            "state[T.SD]                   5.372e-201          0        inf      0.000   5.37e-201   5.37e-201\n",
            "state[T.TN]                   1.074e-200          0        inf      0.000   1.07e-200   1.07e-200\n",
            "state[T.TX]                   1.611e-200          0        inf      0.000   1.61e-200   1.61e-200\n",
            "state[T.VA]                   1.074e-200          0        inf      0.000   1.07e-200   1.07e-200\n",
            "state[T.WA]                   1.611e-200          0        inf      0.000   1.61e-200   1.61e-200\n",
            "state[T.WV]                   5.372e-201          0        inf      0.000   5.37e-201   5.37e-201\n",
            "client_owned_location[T.True] 1.504e-199          0        inf      0.000    1.5e-199    1.5e-199\n",
            "attendance                    5.827e-195          0        inf      0.000   5.83e-195   5.83e-195\n",
            "average_ticket_price          2.248e-197          0        inf      0.000   2.25e-197   2.25e-197\n",
            "location_capacity              5.116e-98   9.62e-98      0.532      0.596    -1.4e-97    2.43e-97\n",
            "==============================================================================\n",
            "Omnibus:                       31.156   Durbin-Watson:                   0.160\n",
            "Prob(Omnibus):                  0.000   Jarque-Bera (JB):               48.395\n",
            "Skew:                           1.706   Prob(JB):                     3.10e-11\n",
            "Kurtosis:                       4.587   Cond. No.                     1.21e+16\n",
            "==============================================================================\n",
            "\n",
            "Notes:\n",
            "[1] Standard Errors assume that the covariance matrix of the errors is correctly specified.\n",
            "[2] The condition number is large, 1.21e+16. This might indicate that there are\n",
            "strong multicollinearity or other numerical problems.\n"
          ]
        }
      ]
    },
    {
      "cell_type": "markdown",
      "source": [
        "Create the scatter plot to compare the predicted and observed values."
      ],
      "metadata": {
        "id": "ZxYNEZliZT1c"
      }
    },
    {
      "cell_type": "code",
      "source": [
        "import matplotlib.pyplot as plt\n",
        "\n",
        "fig, ax = plt.subplots()\n",
        "ax.scatter(result.fittedvalues, result.resid)\n",
        "ax.axhline(y=0, color='red', linestyle='--')\n",
        "ax.set_xlabel('Predicted')\n",
        "ax.set_ylabel('Residuals')\n",
        "plt.show()"
      ],
      "metadata": {
        "colab": {
          "base_uri": "https://localhost:8080/",
          "height": 465
        },
        "id": "3DOu4Y2LXv9k",
        "outputId": "686bf7ce-28a0-405b-9c5f-6b78107de02d"
      },
      "execution_count": 15,
      "outputs": [
        {
          "output_type": "display_data",
          "data": {
            "text/plain": [
              "<Figure size 640x480 with 1 Axes>"
            ],
            "image/png": "[encoded data removed]"
          },
          "metadata": {}
        }
      ]
    }
  ]
}