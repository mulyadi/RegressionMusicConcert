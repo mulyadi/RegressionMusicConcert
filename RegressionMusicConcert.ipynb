{
  "nbformat": 4,
  "nbformat_minor": 0,
  "metadata": {
    "colab": {
      "provenance": []
    },
    "kernelspec": {
      "name": "python3",
      "display_name": "Python 3"
    },
    "language_info": {
      "name": "python"
    }
  },
  "cells": [
    {
      "cell_type": "markdown",
      "source": [
        "# What Affects Attendance?\n",
        "\n",
        "In the simulated input data set, there are 286 events (observations), each with type of location, location capacity, state, average ticket price, attendance (number of participants per event). The goal of this analyses is to understand what affects the attendance.\n",
        "\n",
        "The simulated input data contains the following fields.\n",
        "* event_id\n",
        "* artist_id\n",
        "* location_id\n",
        "* start_date\n",
        "* attendance\n",
        "* average_ticket_price\n",
        "\n",
        "The *location_id* column encodes additional information about the locations in the ID itself, following one of two schemas.\n",
        "* LOC-[Type][Capacity][State]-[ID]\n",
        "* LOC-[Type][Capacity][State]-[Ownership Flag]-[ID]\n",
        "For example, the location ID LOC-Arena20000FL-8521e4fd-672c represents a non-client owned Arena with a capacity of 20000 in Florida, while the location ID LOC-Arena100000CA-Own-8521e4fd-672c represents as a client owned Arena with a capacity of 100000 in California.\n",
        "\n",
        "## Data Ingestion\n",
        "The cell below starts with import statement that imports *pandas* and *numpy* Python modules that are used in many cells in this analysis.\n",
        "The rows with null values are deleted in the following cell to simplify this analysis.\n"
      ],
      "metadata": {
        "id": "BbvmNEquF0ai"
      }
    },
    {
      "cell_type": "code",
      "execution_count": 1,
      "metadata": {
        "colab": {
          "base_uri": "https://localhost:8080/"
        },
        "id": "GW1bPXtBFnEW",
        "outputId": "54267877-4ac4-41d7-e030-2c1c0e587b52"
      },
      "outputs": [
        {
          "output_type": "stream",
          "name": "stdout",
          "text": [
            "            event_id          artist_id                         location_id  \\\n",
            "0  EVT-3adca30d-b5ea  ART-4de1a19c-0779      LOC-Arena16800OH-621a3f60-24c0   \n",
            "1  EVT-bc114a58-3eaf  ART-4de1a19c-0779  LOC-Arena15200NY-Own-334a8797-8708   \n",
            "2  EVT-78a9775c-5eee  ART-4de1a19c-0779  LOC-Arena15200NY-Own-334a8797-8708   \n",
            "3  EVT-cf249300-7259  ART-4de1a19c-0779  LOC-Arena15200NY-Own-334a8797-8708   \n",
            "4  EVT-54753efb-60ca  ART-4de1a19c-0779  LOC-Arena14400OK-Own-226f9270-4eb6   \n",
            "\n",
            "  start_date  attendance  average_ticket_price  \n",
            "0     1/2/14       10542                 41.45  \n",
            "1    1/11/14       11390                 57.35  \n",
            "2    8/29/14       11482                 57.36  \n",
            "3    2/15/17         152                 59.63  \n",
            "4    1/17/14        9513                 42.79  \n"
          ]
        }
      ],
      "source": [
        "import pandas as pd\n",
        "import numpy as np\n",
        "\n",
        "df = pd.read_csv('music_concert.csv')\n",
        "df = df.dropna()\n",
        "print(df.head())"
      ]
    },
    {
      "cell_type": "markdown",
      "source": [
        "## Surface Additional Features\n",
        "\n",
        "The following cell translates the location IDs into the location type, capacity, ownership type, and state. And the estimated total revenue is calculated by multiplying attendance with average ticket price.\n",
        "\n",
        "*location_capacity* is converted to float so it can be aggregated later in this analysis.\n"
      ],
      "metadata": {
        "id": "OydduA3aJuXW"
      }
    },
    {
      "cell_type": "code",
      "source": [
        "location_detail = df['location_id'].str.split('-', expand=True)\n",
        "df[['location_type', 'location_capacity', 'state']] \\\n",
        "  = location_detail[1].str.extract(r'(\\D+)(\\d+)(\\D+)')\n",
        "df['client_owned_location'] = df['location_id'].str.contains('-Own-')\n",
        "df['total_revenue'] = df['attendance'] * df['average_ticket_price']\n",
        "df['location_capacity'] = df['location_capacity'].astype(float)\n",
        "print(df.head())"
      ],
      "metadata": {
        "colab": {
          "base_uri": "https://localhost:8080/"
        },
        "id": "JYEYBTfWKB1g",
        "outputId": "9578c3c8-170d-4d50-adf4-459f38ef1f8f"
      },
      "execution_count": 2,
      "outputs": [
        {
          "output_type": "stream",
          "name": "stdout",
          "text": [
            "            event_id          artist_id                         location_id  \\\n",
            "0  EVT-3adca30d-b5ea  ART-4de1a19c-0779      LOC-Arena16800OH-621a3f60-24c0   \n",
            "1  EVT-bc114a58-3eaf  ART-4de1a19c-0779  LOC-Arena15200NY-Own-334a8797-8708   \n",
            "2  EVT-78a9775c-5eee  ART-4de1a19c-0779  LOC-Arena15200NY-Own-334a8797-8708   \n",
            "3  EVT-cf249300-7259  ART-4de1a19c-0779  LOC-Arena15200NY-Own-334a8797-8708   \n",
            "4  EVT-54753efb-60ca  ART-4de1a19c-0779  LOC-Arena14400OK-Own-226f9270-4eb6   \n",
            "\n",
            "  start_date  attendance  average_ticket_price location_type  \\\n",
            "0     1/2/14       10542                 41.45         Arena   \n",
            "1    1/11/14       11390                 57.35         Arena   \n",
            "2    8/29/14       11482                 57.36         Arena   \n",
            "3    2/15/17         152                 59.63         Arena   \n",
            "4    1/17/14        9513                 42.79         Arena   \n",
            "\n",
            "   location_capacity state  client_owned_location  total_revenue  \n",
            "0            16800.0    OH                  False      436965.90  \n",
            "1            15200.0    NY                   True      653216.50  \n",
            "2            15200.0    NY                   True      658607.52  \n",
            "3            15200.0    NY                   True        9063.76  \n",
            "4            14400.0    OK                   True      407061.27  \n"
          ]
        }
      ]
    },
    {
      "cell_type": "markdown",
      "source": [
        "## Calculate Statistics for the Numerical Fields\n",
        "The following cell runs the *describe* function to show the statistics of the numerical fields in the data set. These statistics can be used to find abnormally low or high values in the data."
      ],
      "metadata": {
        "id": "lffLcANZPrqR"
      }
    },
    {
      "cell_type": "code",
      "source": [
        "print(df['attendance'].describe())\n",
        "print(df['average_ticket_price'].describe())\n",
        "print(df['location_capacity'].astype(float).describe())"
      ],
      "metadata": {
        "colab": {
          "base_uri": "https://localhost:8080/"
        },
        "id": "ZtYLJfCw7c5D",
        "outputId": "37c7f0af-a878-40eb-d3c9-b595407b764f"
      },
      "execution_count": 3,
      "outputs": [
        {
          "output_type": "stream",
          "name": "stdout",
          "text": [
            "count      286.000000\n",
            "mean     12667.751748\n",
            "std       6657.886107\n",
            "min        116.000000\n",
            "25%       8564.500000\n",
            "50%      11921.500000\n",
            "75%      14912.250000\n",
            "max      52800.000000\n",
            "Name: attendance, dtype: float64\n",
            "count    286.000000\n",
            "mean      45.816643\n",
            "std       12.893347\n",
            "min       23.610000\n",
            "25%       35.397500\n",
            "50%       43.525000\n",
            "75%       55.525000\n",
            "max       88.180000\n",
            "Name: average_ticket_price, dtype: float64\n",
            "count      286.000000\n",
            "mean     17101.346154\n",
            "std       9015.509408\n",
            "min       1040.000000\n",
            "25%      13000.000000\n",
            "50%      15960.000000\n",
            "75%      16800.000000\n",
            "max      60900.000000\n",
            "Name: location_capacity, dtype: float64\n"
          ]
        }
      ]
    },
    {
      "cell_type": "markdown",
      "source": [
        "## Attendance and Average Ticket Price by Location Type\n",
        "The following cells calculate the average attendance and the average ticket price by location type. This helps understand the differences between the location types."
      ],
      "metadata": {
        "id": "9aXdpL5DK4Ul"
      }
    },
    {
      "cell_type": "code",
      "source": [
        "df.groupby(['location_type'])['attendance'].mean()"
      ],
      "metadata": {
        "colab": {
          "base_uri": "https://localhost:8080/"
        },
        "id": "wGTKHx5TLHgh",
        "outputId": "3024079b-4ef8-45d8-82a9-7acb6de6cddf"
      },
      "execution_count": 4,
      "outputs": [
        {
          "output_type": "execute_result",
          "data": {
            "text/plain": [
              "location_type\n",
              "Amphitheatre    12983.630952\n",
              "Arena            8028.244681\n",
              "Club              481.000000\n",
              "Stadium         29851.782609\n",
              "Name: attendance, dtype: float64"
            ]
          },
          "metadata": {},
          "execution_count": 4
        }
      ]
    },
    {
      "cell_type": "code",
      "source": [
        "df.groupby(['location_type'])['average_ticket_price'].mean()"
      ],
      "metadata": {
        "colab": {
          "base_uri": "https://localhost:8080/"
        },
        "id": "9S7vAW8ZLXn0",
        "outputId": "361fd3a7-8a3e-4c5c-e9c7-075c5f734472"
      },
      "execution_count": 5,
      "outputs": [
        {
          "output_type": "execute_result",
          "data": {
            "text/plain": [
              "location_type\n",
              "Amphitheatre    38.410952\n",
              "Arena           54.830319\n",
              "Club            38.800000\n",
              "Stadium         63.376957\n",
              "Name: average_ticket_price, dtype: float64"
            ]
          },
          "metadata": {},
          "execution_count": 5
        }
      ]
    },
    {
      "cell_type": "markdown",
      "source": [
        "## More Statistics on Attendance and Average Ticket Price by Location Type\n",
        "\n",
        "The following cells calculate the row count, average, standard deviation, variance, median, minimum, and maximum of the attendance and the average ticket price by location type."
      ],
      "metadata": {
        "id": "IRhcq1-NMJAL"
      }
    },
    {
      "cell_type": "code",
      "source": [
        "aggs_attendance = df.groupby('location_type')['attendance']\\\n",
        "  .agg([np.size, np.mean, np.std, np.var, np.median, np.min, np.max])\n",
        "print(aggs_attendance)"
      ],
      "metadata": {
        "colab": {
          "base_uri": "https://localhost:8080/"
        },
        "id": "KFy8mt1xMJ52",
        "outputId": "0ddcee36-bf06-4de0-8e85-baf0c1c6c84b"
      },
      "execution_count": 6,
      "outputs": [
        {
          "output_type": "stream",
          "name": "stdout",
          "text": [
            "               size          mean          std           var   median   amin  \\\n",
            "location_type                                                                  \n",
            "Amphitheatre    168  12983.630952  3071.720881  9.435469e+06  13220.0   5642   \n",
            "Arena            94   8028.244681  2451.822187  6.011432e+06   7826.5    116   \n",
            "Club              1    481.000000          NaN           NaN    481.0    481   \n",
            "Stadium          23  29851.782609  8307.205437  6.900966e+07  29450.0  17360   \n",
            "\n",
            "                amax  \n",
            "location_type         \n",
            "Amphitheatre   20401  \n",
            "Arena          14910  \n",
            "Club             481  \n",
            "Stadium        52800  \n"
          ]
        }
      ]
    },
    {
      "cell_type": "code",
      "source": [
        "aggs_average_ticket_price = df.groupby('location_type')['average_ticket_price']\\\n",
        "  .agg([np.size, np.mean, np.std, np.var, np.median, np.min, np.max])\n",
        "print(aggs_average_ticket_price)"
      ],
      "metadata": {
        "colab": {
          "base_uri": "https://localhost:8080/"
        },
        "id": "idaZK_d8MaDc",
        "outputId": "d10fb4f2-ec45-435b-ad2c-17f81e89a5bc"
      },
      "execution_count": 7,
      "outputs": [
        {
          "output_type": "stream",
          "name": "stdout",
          "text": [
            "               size       mean       std        var  median   amin   amax\n",
            "location_type                                                            \n",
            "Amphitheatre    168  38.410952  9.674380  93.593635  36.590  23.61  78.81\n",
            "Arena            94  54.830319  7.885108  62.174924  54.445  32.20  73.87\n",
            "Club              1  38.800000       NaN        NaN  38.800  38.80  38.80\n",
            "Stadium          23  63.376957  9.469868  89.678395  62.450  46.08  88.18\n"
          ]
        }
      ]
    },
    {
      "cell_type": "markdown",
      "source": [
        "## Attendance by State\n",
        "The following cell calculates the same attendance statistics by state, and sorted by attendance in descending order."
      ],
      "metadata": {
        "id": "smH8JQw_Mq9L"
      }
    },
    {
      "cell_type": "code",
      "source": [
        "aggs_attendance = df.groupby('state')['attendance']\\\n",
        "  .agg([np.size, np.mean, np.std, np.var, np.median, np.min, np.max])\n",
        "aggs_attendance.sort_values(by=['mean'], inplace=True, ascending=False)\n",
        "print(aggs_attendance)"
      ],
      "metadata": {
        "colab": {
          "base_uri": "https://localhost:8080/"
        },
        "id": "Libdo6rUMyvC",
        "outputId": "d384cbe9-952d-4404-832a-db23979cfb11"
      },
      "execution_count": 8,
      "outputs": [
        {
          "output_type": "stream",
          "name": "stdout",
          "text": [
            "       size          mean           std           var   median   amin   amax\n",
            "state                                                                       \n",
            "CO        2  37996.000000    913.581961  8.346320e+05  37996.0  37350  38642\n",
            "MN        3  31800.333333   4834.813578  2.337542e+07  32062.0  26840  36499\n",
            "PA       14  19859.285714  11014.894150  1.213279e+08  17020.5   6603  52800\n",
            "MI        3  19561.000000  11206.509671  1.255859e+08  19578.0   8346  30759\n",
            "CT        1  18522.000000           NaN           NaN  18522.0  18522  18522\n",
            "ON        6  16390.333333   8345.540670  6.964805e+07  12383.5  11448  32846\n",
            "OH       23  14825.000000   4086.402619  1.669869e+07  15662.0   5892  29450\n",
            "BC        3  14609.000000   9335.638543  8.715415e+07  11311.0   7370  25146\n",
            "NJ       18  14329.611111   5497.386290  3.022126e+07  13255.0   9311  34486\n",
            "WA        4  13733.750000   3728.988815  1.390536e+07  13458.0   9697  18322\n",
            "VA       25  13223.520000   3331.294870  1.109753e+07  14666.0   7117  17626\n",
            "MA        1  13006.000000           NaN           NaN  13006.0  13006  13006\n",
            "CA       30  12777.300000   5884.322544  3.462525e+07  11424.5   6758  34360\n",
            "TN        4  12585.250000   7915.237641  6.265099e+07  10491.5   5449  23909\n",
            "AZ        6  12582.000000   3090.821315  9.553176e+06  13408.0   6455  14809\n",
            "NC       11  12262.818182   3182.642638  1.012921e+07  12623.0   5427  15717\n",
            "IL       12  11988.750000   9521.159871  9.065249e+07   9097.5   5930  40422\n",
            "FL       19  11907.210526   5698.829691  3.247666e+07  12505.0   4602  31200\n",
            "KY        3  11854.333333   2520.837625  6.354622e+06  12266.0   9153  14144\n",
            "KS        2  11687.000000   3098.541915  9.600962e+06  11687.0   9496  13878\n",
            "NY       20  11563.350000   5081.934032  2.582605e+07  11436.0    152  19707\n",
            "MO        2  11381.000000   2610.638236  6.815432e+06  11381.0   9535  13227\n",
            "GA       10  11284.100000   4584.678941  2.101928e+07  10902.0   4480  19262\n",
            "TX       16   9952.000000   3392.369948  1.150817e+07   9346.0   4563  17600\n",
            "NE        5   9592.400000   1891.479395  3.577694e+06   9202.0   7105  11770\n",
            "OR        1   9525.000000           NaN           NaN   9525.0   9525   9525\n",
            "MD        1   9435.000000           NaN           NaN   9435.0   9435   9435\n",
            "ME        4   8563.750000   1935.156217  3.744830e+06   8747.5   6264  10496\n",
            "NM        1   8236.000000           NaN           NaN   8236.0   8236   8236\n",
            "AR        2   8122.000000   3190.465797  1.017907e+07   8122.0   5866  10378\n",
            "LA        7   7958.142857   1259.962755  1.587506e+06   7327.0   6353   9834\n",
            "SD        2   7684.000000    265.872150  7.068800e+04   7684.0   7496   7872\n",
            "SC        3   7585.666667   1551.485847  2.407108e+06   7714.0   5974   9069\n",
            "OK        6   7287.166667   2406.348555  5.790513e+06   7295.5   4682  10115\n",
            "NH        6   6556.833333    317.497349  1.008046e+05   6470.0   6260   6994\n",
            "AL        2   6369.000000    951.765727  9.058580e+05   6369.0   5696   7042\n",
            "IN        3   6287.333333    981.195869  9.627453e+05   6800.0   5156   6906\n",
            "WV        3   6021.333333   1088.391627  1.184596e+06   5674.0   5149   7241\n",
            "ND        1   5226.000000           NaN           NaN   5226.0   5226   5226\n",
            "RI        1    116.000000           NaN           NaN    116.0    116    116\n"
          ]
        }
      ]
    },
    {
      "cell_type": "markdown",
      "source": [
        "## Revenue by State\n",
        "The following section calculates the total revenue statistics by state, and sorted by attendance in descending order."
      ],
      "metadata": {
        "id": "BaiJsYLfNMJH"
      }
    },
    {
      "cell_type": "code",
      "source": [
        "aggs_total_revenue = df.groupby('state')['total_revenue']\\\n",
        "  .agg([np.mean, np.std, np.var, np.median, np.min, np.max])\n",
        "aggs_total_revenue.sort_values(by=['mean'], inplace=True, ascending=False)\n",
        "print(aggs_total_revenue)"
      ],
      "metadata": {
        "colab": {
          "base_uri": "https://localhost:8080/"
        },
        "id": "QwN7KFQPNLoM",
        "outputId": "6ae91b89-9ed3-4801-e20d-dc5e002a4ada"
      },
      "execution_count": 9,
      "outputs": [
        {
          "output_type": "stream",
          "name": "stdout",
          "text": [
            "               mean            std           var       median        amin  \\\n",
            "state                                                                       \n",
            "MN     2.247079e+06  540121.559804  2.917313e+11  2228629.620  1716418.00   \n",
            "CO     2.163479e+06   50944.667706  2.595359e+09  2163479.320  2127456.00   \n",
            "MI     1.279677e+06  885025.269147  7.832697e+11  1220492.520   425729.46   \n",
            "BC     1.064139e+06  999228.661063  9.984579e+11   519061.790   455981.90   \n",
            "ON     1.022657e+06  738336.373509  5.451406e+11   700431.965   561836.73   \n",
            "PA     8.290438e+05  660619.397236  4.364180e+11   533079.990   227935.56   \n",
            "TN     7.644420e+05  586667.271113  3.441785e+11   555141.935   331953.08   \n",
            "MA     7.110380e+05            NaN           NaN   711038.020   711038.02   \n",
            "WA     6.979959e+05  273337.928986  7.471362e+10   707589.960   354619.29   \n",
            "NJ     6.790318e+05  394676.063258  1.557692e+11   604938.400   441015.60   \n",
            "CT     6.201166e+05            NaN           NaN   620116.560   620116.56   \n",
            "IL     6.052926e+05  573597.497792  3.290141e+11   456093.840   302430.00   \n",
            "CA     6.013824e+05  416376.586168  1.733695e+11   497391.330   259080.54   \n",
            "KY     5.422807e+05   75402.472099  5.685533e+09   580304.460   455436.80   \n",
            "OR     5.324475e+05            NaN           NaN   532447.500   532447.50   \n",
            "NY     5.284819e+05  210665.370867  4.437990e+10   555294.660     9063.76   \n",
            "OH     5.258273e+05  282666.279335  7.990023e+10   470793.120   322999.44   \n",
            "AZ     5.055935e+05   95013.403594  9.027547e+09   529485.510   333594.40   \n",
            "MD     5.051499e+05            NaN           NaN   505149.900   505149.90   \n",
            "FL     5.004468e+05  294993.830092  8.702136e+10   462313.800   249428.40   \n",
            "NE     4.925593e+05   86484.864850  7.479632e+09   463306.000   425731.60   \n",
            "VA     4.792966e+05  102376.671686  1.048098e+10   491267.700   299072.56   \n",
            "LA     4.633516e+05   50301.664246  2.530257e+09   440475.840   414660.31   \n",
            "GA     4.527922e+05  251410.859684  6.320742e+10   414599.570   229286.40   \n",
            "NM     4.253894e+05            NaN           NaN   425389.400   425389.40   \n",
            "AR     4.195623e+05  151932.484398  2.308348e+10   419562.350   312129.86   \n",
            "SD     4.153704e+05   27114.264083  7.351833e+08   415370.440   396197.76   \n",
            "ME     4.071496e+05  101237.601009  1.024905e+10   402538.880   296412.48   \n",
            "TX     4.064064e+05  116218.963431  1.350685e+10   412038.800   220986.09   \n",
            "KS     4.022934e+05   42631.637543  1.817457e+09   402293.360   372148.24   \n",
            "SC     4.013671e+05   42905.612185  1.840892e+09   379229.520   374051.86   \n",
            "NC     3.931270e+05   65100.264369  4.238044e+09   414368.640   271892.24   \n",
            "OK     3.818229e+05  105028.323858  1.103095e+10   370710.230   265188.48   \n",
            "MO     3.811532e+05   48330.147453  2.335803e+09   381153.225   346978.65   \n",
            "WV     3.703866e+05   72352.232553  5.234846e+09   411071.570   286850.79   \n",
            "NH     3.641137e+05   29297.508279  8.583440e+08   361417.635   318856.46   \n",
            "IN     3.513437e+05   21949.391322  4.817758e+08   345921.540   332613.56   \n",
            "AL     2.832560e+05     958.044836  9.178499e+05   283256.000   282578.56   \n",
            "ND     2.317731e+05            NaN           NaN   231773.100   231773.10   \n",
            "RI     6.124800e+03            NaN           NaN     6124.800     6124.80   \n",
            "\n",
            "             amax  \n",
            "state              \n",
            "MN     2796188.39  \n",
            "CO     2199502.64  \n",
            "MI     2192809.11  \n",
            "BC     2217374.28  \n",
            "ON     2483814.52  \n",
            "PA     2547072.00  \n",
            "TN     1615531.13  \n",
            "MA      711038.02  \n",
            "WA     1022184.38  \n",
            "NJ     2222967.56  \n",
            "CT      620116.56  \n",
            "IL     2402683.68  \n",
            "CA     2148187.20  \n",
            "KY      591100.74  \n",
            "OR      532447.50  \n",
            "NY      851463.24  \n",
            "OH     1770534.00  \n",
            "AZ      599617.70  \n",
            "MD      505149.90  \n",
            "FL     1650480.00  \n",
            "NE      641347.30  \n",
            "VA      729017.62  \n",
            "LA      541245.49  \n",
            "GA     1117196.00  \n",
            "NM      425389.40  \n",
            "AR      526994.84  \n",
            "SD      434543.12  \n",
            "ME      527108.04  \n",
            "TX      737616.00  \n",
            "KS      432438.48  \n",
            "SC      450819.99  \n",
            "NC      480737.27  \n",
            "OK      550256.00  \n",
            "MO      415327.80  \n",
            "WV      413237.42  \n",
            "NH      408730.08  \n",
            "IN      375496.00  \n",
            "AL      283933.44  \n",
            "ND      231773.10  \n",
            "RI        6124.80  \n"
          ]
        }
      ]
    },
    {
      "cell_type": "markdown",
      "source": [
        "## First Regression Model\n",
        "The following cell uses the *statsmodels* module to create a regression model based on the input data.\n",
        "The response variable is the *attendance*, and the following are the features.\n",
        "* average_ticket_price\n",
        "* location_type\n",
        "* location_capacity\n",
        "* state\n",
        "* client_owned_location\n",
        "\n",
        "The adjusted R-squared value is high and indicates good goodness-of-fit. Even though the features explain the response, we can see that there are high *p-values*, especially for some states, that suggest that the model can perform relatively well without some of the features.\n",
        "\n",
        "The validation (test) data is 20% of the input data set. At the end of the cell, *sklearn* functions are used to compare the predicted and observed values and produces the mean-squared error and R-squared values."
      ],
      "metadata": {
        "id": "VoHEx914TzqU"
      }
    },
    {
      "cell_type": "code",
      "source": [
        "import statsmodels.formula.api as smf\n",
        "from sklearn.model_selection import train_test_split\n",
        "from sklearn.metrics import mean_squared_error, r2_score\n",
        "\n",
        "training, validation = train_test_split(df, test_size=0.2)\n",
        "\n",
        "model = smf.ols(formula='attendance ~ \\\n",
        "  average_ticket_price + \\\n",
        "  location_type + \\\n",
        "  location_capacity + \\\n",
        "  state + \\\n",
        "  client_owned_location', data=training)\n",
        "result = model.fit()\n",
        "print(result.summary())\n",
        "\n",
        "validation_prediction = result.predict(validation)\n",
        "observed_response = validation['attendance']\n",
        "\n",
        "mse = mean_squared_error(observed_response, validation_prediction)\n",
        "r2 = r2_score(observed_response, validation_prediction)\n",
        "\n",
        "print('Validation MSE: ', mse)\n",
        "print('Validation R-squared: ', r2)"
      ],
      "metadata": {
        "colab": {
          "base_uri": "https://localhost:8080/"
        },
        "id": "7gcepSF0R4Ds",
        "outputId": "7db940d8-dc6e-4ad8-9f01-5f2e16f45acf"
      },
      "execution_count": 13,
      "outputs": [
        {
          "output_type": "stream",
          "name": "stdout",
          "text": [
            "                            OLS Regression Results                            \n",
            "==============================================================================\n",
            "Dep. Variable:             attendance   R-squared:                       0.866\n",
            "Model:                            OLS   Adj. R-squared:                  0.833\n",
            "Method:                 Least Squares   F-statistic:                     26.22\n",
            "Date:                Thu, 01 Jun 2023   Prob (F-statistic):           8.96e-59\n",
            "Time:                        19:36:55   Log-Likelihood:                -2100.7\n",
            "No. Observations:                 228   AIC:                             4293.\n",
            "Df Residuals:                     182   BIC:                             4451.\n",
            "Df Model:                          45                                         \n",
            "Covariance Type:            nonrobust                                         \n",
            "=================================================================================================\n",
            "                                    coef    std err          t      P>|t|      [0.025      0.975]\n",
            "-------------------------------------------------------------------------------------------------\n",
            "Intercept                      5365.3348   3165.593      1.695      0.092    -880.647    1.16e+04\n",
            "location_type[T.Arena]        -1807.3804    636.272     -2.841      0.005   -3062.798    -551.963\n",
            "location_type[T.Club]         -5504.2809   3036.079     -1.813      0.071   -1.15e+04     486.158\n",
            "location_type[T.Stadium]       4121.9353   2352.175      1.752      0.081    -519.103    8762.974\n",
            "state[T.AR]                    1175.3086   3419.363      0.344      0.731   -5571.383    7922.000\n",
            "state[T.AZ]                    2785.3485   3052.595      0.912      0.363   -3237.679    8808.375\n",
            "state[T.BC]                    1191.4048   3244.796      0.367      0.714   -5210.850    7593.660\n",
            "state[T.CA]                    2090.2578   2815.472      0.742      0.459   -3464.906    7645.422\n",
            "state[T.CO]                    2131.2879   4296.665      0.496      0.620   -6346.394    1.06e+04\n",
            "state[T.CT]                    5695.4808   3914.155      1.455      0.147   -2027.475    1.34e+04\n",
            "state[T.FL]                    1944.8286   2888.239      0.673      0.502   -3753.910    7643.568\n",
            "state[T.GA]                     861.1356   2974.341      0.290      0.773   -5007.490    6729.761\n",
            "state[T.IL]                    2045.0909   2932.632      0.697      0.486   -3741.238    7831.420\n",
            "state[T.IN]                    2996.0366   3387.762      0.884      0.378   -3688.302    9680.375\n",
            "state[T.KS]                    1042.9560   3417.807      0.305      0.761   -5700.666    7786.577\n",
            "state[T.KY]                    4155.1381   3271.187      1.270      0.206   -2299.188    1.06e+04\n",
            "state[T.LA]                    2645.2056   3034.391      0.872      0.384   -3341.902    8632.314\n",
            "state[T.MA]                    3956.1907   3911.522      1.011      0.313   -3761.570    1.17e+04\n",
            "state[T.MD]                    4570.4762   3938.685      1.160      0.247   -3200.880    1.23e+04\n",
            "state[T.ME]                    1483.2652   3147.973      0.471      0.638   -4727.950    7694.480\n",
            "state[T.MI]                    2641.2669   3236.719      0.816      0.416   -3745.052    9027.585\n",
            "state[T.MN]                    9528.4035   3457.660      2.756      0.006    2706.150    1.64e+04\n",
            "state[T.MO]                    -879.9995   3874.170     -0.227      0.821   -8524.063    6764.064\n",
            "state[T.NC]                    1603.6253   2956.135      0.542      0.588   -4229.077    7436.328\n",
            "state[T.ND]                    1016.8187   3909.672      0.260      0.795   -6697.292    8730.930\n",
            "state[T.NE]                    3569.0437   3060.771      1.166      0.245   -2470.115    9608.203\n",
            "state[T.NH]                    2514.3377   2963.651      0.848      0.397   -3333.195    8361.870\n",
            "state[T.NJ]                    4536.8532   2859.946      1.586      0.114   -1106.060    1.02e+04\n",
            "state[T.NM]                    3185.9521   3898.304      0.817      0.415   -4505.729    1.09e+04\n",
            "state[T.NY]                    3165.8564   2868.068      1.104      0.271   -2493.082    8824.795\n",
            "state[T.OH]                    3073.2160   2847.475      1.079      0.282   -2545.091    8691.523\n",
            "state[T.OK]                     585.0601   3046.351      0.192      0.848   -5425.647    6595.767\n",
            "state[T.ON]                    4604.3020   3102.071      1.484      0.139   -1516.345    1.07e+04\n",
            "state[T.OR]                    1920.4025   3974.583      0.483      0.630   -5921.784    9762.589\n",
            "state[T.PA]                    3710.5747   2895.084      1.282      0.202   -2001.669    9422.818\n",
            "state[T.RI]                   -5016.5938   3941.492     -1.273      0.205   -1.28e+04    2760.302\n",
            "state[T.SC]                    1487.2850   3219.547      0.462      0.645   -4865.153    7839.723\n",
            "state[T.SD]                    3534.8205   3887.839      0.909      0.364   -4136.212    1.12e+04\n",
            "state[T.TN]                     916.6091   3449.138      0.266      0.791   -5888.829    7722.048\n",
            "state[T.TX]                    1636.7338   2911.738      0.562      0.575   -4108.370    7381.838\n",
            "state[T.VA]                    1639.8250   2866.461      0.572      0.568   -4015.943    7295.593\n",
            "state[T.WA]                     221.1808   3092.956      0.072      0.943   -5881.481    6323.843\n",
            "state[T.WV]                    2432.4659   3191.371      0.762      0.447   -3864.378    8729.310\n",
            "client_owned_location[T.True]  -285.9933    567.256     -0.504      0.615   -1405.237     833.250\n",
            "average_ticket_price            -79.6310     26.781     -2.973      0.003    -132.472     -26.790\n",
            "location_capacity                 0.5229      0.070      7.507      0.000       0.385       0.660\n",
            "==============================================================================\n",
            "Omnibus:                      119.679   Durbin-Watson:                   2.150\n",
            "Prob(Omnibus):                  0.000   Jarque-Bera (JB):             1921.376\n",
            "Skew:                           1.619   Prob(JB):                         0.00\n",
            "Kurtosis:                      16.848   Cond. No.                     1.85e+06\n",
            "==============================================================================\n",
            "\n",
            "Notes:\n",
            "[1] Standard Errors assume that the covariance matrix of the errors is correctly specified.\n",
            "[2] The condition number is large, 1.85e+06. This might indicate that there are\n",
            "strong multicollinearity or other numerical problems.\n",
            "Validation MSE:  11983889.024722518\n",
            "Validation R-squared:  0.7284564156681428\n"
          ]
        }
      ]
    },
    {
      "cell_type": "markdown",
      "source": [
        "## Suggestions From an Expert\n",
        "[Dr. Vincent Granville](https://mltechniques.com/author/) helped improve this analysis by suggesting the following actions.\n",
        "* Create a scatter plot to compare the predicted and observed values. This visualization helps with understanding how the model performs.\n",
        "* Compute the correlation matrix between features, and between response and features. Very high correlation between two independent features  lead to potentially meaningless correlation coefficients for these two features, and again close to getting a singular matrix.\n",
        "* Create aggregate buckets using the categorical features. This will combine features with high p-value and reduce the noise that are seen in the event-level statistics.\n",
        "* Exclude features with high p-value. P-values attached to the various states tell you that the corresponding regression coefficients are not useful.\n",
        "\n",
        "## Scatter Plot Compares Predicted and Observed Values\n",
        "The following cell shows how a scatter plot helps compare the predicted and observed values. The difference between the predicted and observed values gets bigger when attendance is higher than 20,000."
      ],
      "metadata": {
        "id": "28o2Q9LWVaQV"
      }
    },
    {
      "cell_type": "code",
      "source": [
        "import matplotlib.pyplot as plt\n",
        "\n",
        "observed_values = result.fittedvalues + result.resid\n",
        "\n",
        "fig, ax = plt.subplots()\n",
        "ax.scatter(result.fittedvalues, observed_values)\n",
        "ax.set_xlabel('Predicted')\n",
        "ax.set_ylabel('Observed')\n",
        "\n",
        "x = result.fittedvalues\n",
        "y = observed_values\n",
        "z = np.polyfit(x, y, 1)\n",
        "p = np.poly1d(z)\n",
        "\n",
        "plt.scatter(x, y)\n",
        "plt.plot(x, p(x), 'gray')\n",
        "\n",
        "plt.show()"
      ],
      "metadata": {
        "colab": {
          "base_uri": "https://localhost:8080/",
          "height": 449
        },
        "id": "he7foIe7HEiy",
        "outputId": "23499f9b-5f0d-4b0a-fcc7-156541ee0e53"
      },
      "execution_count": 14,
      "outputs": [
        {
          "output_type": "display_data",
          "data": {
            "text/plain": [
              "<Figure size 640x480 with 1 Axes>"
            ],
            "image/png": "[encoded data removed]"
          },
          "metadata": {}
        }
      ]
    },
    {
      "cell_type": "markdown",
      "source": [
        "## Correlation Matrix\n",
        "How do the features and response are correlated to each other?\n",
        "The following heatmap chart shows the correlation between the features, and between the response and features. The attendance is highly correlated with the location capacity, confirming that the bigger the capacity is the higher the attendance might be.\n",
        "There is a negative correlation between average ticket price and attendance, which suggest raising ticket price might lower the attendance."
      ],
      "metadata": {
        "id": "O8Ey2eQBYyVW"
      }
    },
    {
      "cell_type": "code",
      "source": [
        "import seaborn as sns\n",
        "\n",
        "corr_matrix = df.corr(numeric_only='False')\n",
        "print(corr_matrix)\n",
        "sns.heatmap(corr_matrix, annot=True)"
      ],
      "metadata": {
        "colab": {
          "base_uri": "https://localhost:8080/",
          "height": 818
        },
        "id": "0nwZ-4okInR-",
        "outputId": "2165b350-60d1-4034-e899-f3e6346a6c58"
      },
      "execution_count": 15,
      "outputs": [
        {
          "output_type": "stream",
          "name": "stdout",
          "text": [
            "                       attendance  average_ticket_price  location_capacity  \\\n",
            "attendance               1.000000             -0.024045           0.863034   \n",
            "average_ticket_price    -0.024045              1.000000           0.182336   \n",
            "location_capacity        0.863034              0.182336           1.000000   \n",
            "client_owned_location   -0.028738              0.166596           0.076118   \n",
            "total_revenue            0.877413              0.425942           0.868366   \n",
            "\n",
            "                       client_owned_location  total_revenue  \n",
            "attendance                         -0.028738       0.877413  \n",
            "average_ticket_price                0.166596       0.425942  \n",
            "location_capacity                   0.076118       0.868366  \n",
            "client_owned_location               1.000000       0.055164  \n",
            "total_revenue                       0.055164       1.000000  \n"
          ]
        },
        {
          "output_type": "execute_result",
          "data": {
            "text/plain": [
              "<Axes: >"
            ]
          },
          "metadata": {},
          "execution_count": 15
        },
        {
          "output_type": "display_data",
          "data": {
            "text/plain": [
              "<Figure size 640x480 with 2 Axes>"
            ],
            "image/png": "[encoded data removed]"
          },
          "metadata": {}
        }
      ]
    },
    {
      "cell_type": "markdown",
      "source": [
        "## Aggregate Buckets\n",
        "The following cell transforms the original data set into an aggregated one. Using the categorical features (location_type, state, client_owned_location), average the numerical fields (attendance, average_ticket_price, location_capacity, total_revenue).\n",
        "The *aggregate_bucket* contains all the possible combinations of the categorical features.\n",
        "There are fewer observations (rows) in the new data set."
      ],
      "metadata": {
        "id": "j05w5IwwZt0p"
      }
    },
    {
      "cell_type": "code",
      "source": [
        "new_data = df\n",
        "new_data.drop(['event_id', 'artist_id', 'location_id', 'start_date'], axis=1)\n",
        "##print(new_data.info())\n",
        "grouped_new = new_data.groupby(['location_type', 'state', 'client_owned_location'])\\\n",
        "  .apply(lambda x: x[['attendance', 'average_ticket_price', 'location_capacity', \\\n",
        "                      'total_revenue']].mean())\n",
        "grouped_new = grouped_new.reset_index()\n",
        "\n",
        "grouped_new['aggregate_bucket'] = grouped_new[['location_type', 'state', 'client_owned_location']]\\\n",
        "  .apply(lambda x: '_'.join(x.astype(str)), axis=1)\n",
        "grouped_new.drop(['location_type', 'state', 'client_owned_location'], axis=1)\n",
        "print(grouped_new.head())\n",
        "print(grouped_new.info())"
      ],
      "metadata": {
        "colab": {
          "base_uri": "https://localhost:8080/"
        },
        "id": "d4u_Re6JMyQY",
        "outputId": "d5aebc0d-742f-4090-95aa-897ceeb4b503"
      },
      "execution_count": 16,
      "outputs": [
        {
          "output_type": "stream",
          "name": "stdout",
          "text": [
            "  location_type state  client_owned_location  attendance  \\\n",
            "0  Amphitheatre    AL                  False      6369.0   \n",
            "1  Amphitheatre    AZ                   True     13807.4   \n",
            "2  Amphitheatre    CA                  False     12424.4   \n",
            "3  Amphitheatre    CA                   True     13413.0   \n",
            "4  Amphitheatre    CT                  False     18522.0   \n",
            "\n",
            "   average_ticket_price  location_capacity  total_revenue  \\\n",
            "0                44.965             8188.0    283256.0000   \n",
            "1                39.168            16000.0    539993.3560   \n",
            "2                39.985            15272.0    485138.7415   \n",
            "3                51.990            14400.0    697341.8700   \n",
            "4                33.480            19369.0    620116.5600   \n",
            "\n",
            "        aggregate_bucket  \n",
            "0  Amphitheatre_AL_False  \n",
            "1   Amphitheatre_AZ_True  \n",
            "2  Amphitheatre_CA_False  \n",
            "3   Amphitheatre_CA_True  \n",
            "4  Amphitheatre_CT_False  \n",
            "<class 'pandas.core.frame.DataFrame'>\n",
            "RangeIndex: 82 entries, 0 to 81\n",
            "Data columns (total 8 columns):\n",
            " #   Column                 Non-Null Count  Dtype  \n",
            "---  ------                 --------------  -----  \n",
            " 0   location_type          82 non-null     object \n",
            " 1   state                  82 non-null     object \n",
            " 2   client_owned_location  82 non-null     bool   \n",
            " 3   attendance             82 non-null     float64\n",
            " 4   average_ticket_price   82 non-null     float64\n",
            " 5   location_capacity      82 non-null     float64\n",
            " 6   total_revenue          82 non-null     float64\n",
            " 7   aggregate_bucket       82 non-null     object \n",
            "dtypes: bool(1), float64(4), object(3)\n",
            "memory usage: 4.7+ KB\n",
            "None\n"
          ]
        }
      ]
    },
    {
      "cell_type": "markdown",
      "source": [
        "## Second Regression Model\n",
        "Rebuild the regression using the new data set. The average ticket price, location type, location capacity, state, and client owned location features are the features. The adjusted R-squared value still suggest good goodness-of-fit.\n",
        "\n",
        "The validation (test) data is 20% of the aggregate bucket data set. At the end of the cell, *sklearn* functions are used to compare the predicted and observed values and produces the mean-squared error and R-squared values. These two statistics suggest that this model is better than the old one."
      ],
      "metadata": {
        "id": "0ni1zJn0ZO4k"
      }
    },
    {
      "cell_type": "code",
      "source": [
        "import statsmodels.formula.api as smf\n",
        "from sklearn.model_selection import train_test_split\n",
        "from sklearn.metrics import mean_squared_error, r2_score\n",
        "\n",
        "grouped_new['attendance_per_capacity'] = grouped_new['attendance'].div(grouped_new['location_capacity'])\n",
        "\n",
        "training, validation = train_test_split(grouped_new, test_size=0.2)\n",
        "\n",
        "new_model = smf.ols(formula='attendance ~ \\\n",
        "  average_ticket_price + \\\n",
        "  location_type + \\\n",
        "  location_capacity + \\\n",
        "  state + \\\n",
        "  client_owned_location', data=training)\n",
        "\n",
        "new_result = new_model.fit()\n",
        "print(new_result.summary())\n",
        "\n",
        "validation_prediction = result.predict(validation)\n",
        "observed_response = validation['attendance']\n",
        "\n",
        "mse = mean_squared_error(observed_response, validation_prediction)\n",
        "r2 = r2_score(observed_response, validation_prediction)\n",
        "\n",
        "print('Validation MSE: ', mse)\n",
        "print('Validation R-squared: ', r2)"
      ],
      "metadata": {
        "colab": {
          "base_uri": "https://localhost:8080/"
        },
        "id": "3lmDetuHRBgk",
        "outputId": "c3a596b2-f732-4b03-b7c9-e5b03ab794b5"
      },
      "execution_count": 44,
      "outputs": [
        {
          "output_type": "stream",
          "name": "stdout",
          "text": [
            "                            OLS Regression Results                            \n",
            "==============================================================================\n",
            "Dep. Variable:             attendance   R-squared:                       0.968\n",
            "Model:                            OLS   Adj. R-squared:                  0.915\n",
            "Method:                 Least Squares   F-statistic:                     18.12\n",
            "Date:                Thu, 01 Jun 2023   Prob (F-statistic):           9.38e-11\n",
            "Time:                        21:26:31   Log-Likelihood:                -566.00\n",
            "No. Observations:                  65   AIC:                             1214.\n",
            "Df Residuals:                      24   BIC:                             1303.\n",
            "Df Model:                          40                                         \n",
            "Covariance Type:            nonrobust                                         \n",
            "============================================================================================\n",
            "                               coef    std err          t      P>|t|      [0.025      0.975]\n",
            "--------------------------------------------------------------------------------------------\n",
            "Intercept                 8706.3271   4855.112      1.793      0.086   -1314.132    1.87e+04\n",
            "location_type[T.Arena]   -1815.2352   1355.110     -1.340      0.193   -4612.044     981.574\n",
            "location_type[T.Club]    -7186.6701   3353.818     -2.143      0.042   -1.41e+04    -264.729\n",
            "location_type[T.Stadium]  5534.4839   4320.371      1.281      0.212   -3382.323    1.45e+04\n",
            "state[T.AZ]               1710.3628   3128.397      0.547      0.590   -4746.330    8167.056\n",
            "state[T.BC]               3961.7745   3293.323      1.203      0.241   -2835.310    1.08e+04\n",
            "state[T.CA]               2569.3776   3155.620      0.814      0.424   -3943.503    9082.258\n",
            "state[T.CO]               7723.4379   4283.816      1.803      0.084   -1117.924    1.66e+04\n",
            "state[T.CT]               6842.3258   3605.862      1.898      0.070    -599.808    1.43e+04\n",
            "state[T.FL]               2330.0782   2829.870      0.823      0.418   -3510.486    8170.642\n",
            "state[T.GA]                575.2736   3017.001      0.191      0.850   -5651.509    6802.057\n",
            "state[T.IL]               2768.9884   3567.978      0.776      0.445   -4594.956    1.01e+04\n",
            "state[T.IN]               2583.3253   3141.156      0.822      0.419   -3899.703    9066.353\n",
            "state[T.KS]                356.1583   3719.506      0.096      0.925   -7320.524    8032.840\n",
            "state[T.KY]               4329.6958   3391.033      1.277      0.214   -2669.051    1.13e+04\n",
            "state[T.LA]               2942.9748   3181.288      0.925      0.364   -3622.881    9508.830\n",
            "state[T.MA]               3977.7132   3620.132      1.099      0.283   -3493.872    1.14e+04\n",
            "state[T.MD]               3766.4333   3733.852      1.009      0.323   -3939.858    1.15e+04\n",
            "state[T.ME]               1142.4698   3448.935      0.331      0.743   -5975.782    8260.721\n",
            "state[T.MI]               4301.4494   3147.873      1.366      0.184   -2195.440    1.08e+04\n",
            "state[T.MN]               1.239e+04   3611.906      3.431      0.002    4938.193    1.98e+04\n",
            "state[T.MO]               1230.3520   3528.142      0.349      0.730   -6051.374    8512.078\n",
            "state[T.NC]               1154.4130   3209.237      0.360      0.722   -5469.126    7777.952\n",
            "state[T.NH]               1966.5564   3025.440      0.650      0.522   -4277.644    8210.757\n",
            "state[T.NJ]               6930.2224   2926.094      2.368      0.026     891.061     1.3e+04\n",
            "state[T.NM]               3562.8213   3562.707      1.000      0.327   -3790.244    1.09e+04\n",
            "state[T.NY]               3118.1103   2952.273      1.056      0.301   -2975.082    9211.302\n",
            "state[T.OH]               3392.1791   3111.845      1.090      0.286   -3030.354    9814.712\n",
            "state[T.OK]               1034.2667   3779.436      0.274      0.787   -6766.105    8834.638\n",
            "state[T.ON]               4444.6457   3033.997      1.465      0.156   -1817.216    1.07e+04\n",
            "state[T.PA]               7502.6875   3187.212      2.354      0.027     924.606    1.41e+04\n",
            "state[T.RI]              -5780.9492   3745.428     -1.543      0.136   -1.35e+04    1949.235\n",
            "state[T.SD]               3700.2195   3543.789      1.044      0.307   -3613.802     1.1e+04\n",
            "state[T.TN]               4718.0846   3087.693      1.528      0.140   -1654.601    1.11e+04\n",
            "state[T.TX]               2242.5063   3141.491      0.714      0.482   -4241.213    8726.225\n",
            "state[T.VA]               3078.2220   3083.840      0.998      0.328   -3286.511    9442.955\n",
            "state[T.WA]               2087.2874   2921.477      0.714      0.482   -3942.344    8116.919\n",
            "state[T.WV]               2973.7990   3574.050      0.832      0.414   -4402.678    1.04e+04\n",
            "average_ticket_price      -116.6526     83.859     -1.391      0.177    -289.729      56.424\n",
            "location_capacity            0.3551      0.107      3.312      0.003       0.134       0.576\n",
            "client_owned_location     1045.3900   1028.270      1.017      0.319   -1076.855    3167.635\n",
            "==============================================================================\n",
            "Omnibus:                       10.536   Durbin-Watson:                   2.108\n",
            "Prob(Omnibus):                  0.005   Jarque-Bera (JB):               28.719\n",
            "Skew:                           0.118   Prob(JB):                     5.80e-07\n",
            "Kurtosis:                       6.248   Cond. No.                     1.18e+06\n",
            "==============================================================================\n",
            "\n",
            "Notes:\n",
            "[1] Standard Errors assume that the covariance matrix of the errors is correctly specified.\n",
            "[2] The condition number is large, 1.18e+06. This might indicate that there are\n",
            "strong multicollinearity or other numerical problems.\n",
            "Validation MSE:  5880763.62516272\n",
            "Validation R-squared:  0.9417537789069994\n"
          ]
        }
      ]
    },
    {
      "cell_type": "markdown",
      "source": [
        "## Second Scatter Plot\n",
        "Create the second scatter plot to compare the predicted and observed values. This scatter plot shows smaller differences between the predicted and observed values compared to the previous one."
      ],
      "metadata": {
        "id": "ZxYNEZliZT1c"
      }
    },
    {
      "cell_type": "code",
      "source": [
        "import matplotlib.pyplot as plt\n",
        "\n",
        "observed_values = new_result.fittedvalues + new_result.resid\n",
        "\n",
        "fig, ax = plt.subplots()\n",
        "ax.scatter(new_result.fittedvalues, observed_values)\n",
        "ax.set_xlabel('Predicted')\n",
        "ax.set_ylabel('Observed')\n",
        "\n",
        "x = new_result.fittedvalues\n",
        "y = observed_values\n",
        "z = np.polyfit(x, y, 1)\n",
        "p = np.poly1d(z)\n",
        "\n",
        "plt.scatter(x, y)\n",
        "plt.plot(x, p(x), 'gray')\n",
        "\n",
        "plt.show()"
      ],
      "metadata": {
        "colab": {
          "base_uri": "https://localhost:8080/",
          "height": 449
        },
        "id": "3DOu4Y2LXv9k",
        "outputId": "1edd94fc-1e7b-4a5f-f2a2-ae9efffb01aa"
      },
      "execution_count": 45,
      "outputs": [
        {
          "output_type": "display_data",
          "data": {
            "text/plain": [
              "<Figure size 640x480 with 1 Axes>"
            ],
            "image/png": "[encoded data removed]"
          },
          "metadata": {}
        }
      ]
    },
    {
      "cell_type": "code",
      "source": [
        "## Useful Functions\n",
        "\n",
        "## create input data text file\n",
        "##df.to_csv('df.csv')\n",
        "\n",
        "## create prediction and output data text file\n",
        "##prediction = new_result.predict(grouped_new)\n",
        "##prediction.to_csv('prediction.csv', index=True)\n"
      ],
      "metadata": {
        "id": "2zeP0eDAbmIw"
      },
      "execution_count": 46,
      "outputs": []
    }
  ]
}