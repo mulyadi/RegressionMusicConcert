{
  "nbformat": 4,
  "nbformat_minor": 0,
  "metadata": {
    "colab": {
      "provenance": []
    },
    "kernelspec": {
      "name": "python3",
      "display_name": "Python 3"
    },
    "language_info": {
      "name": "python"
    }
  },
  "cells": [
    {
      "cell_type": "markdown",
      "source": [
        "# What Affects Attendance?\n",
        "\n",
        "In the simulated input data set, there are 286 events (observations), each with type of location, location capacity, state, average ticket price, attendance (number of participants per event). The goal of this analyses is to understand what affects the attendance.\n",
        "\n",
        "The simulated input data contains the following fields.\n",
        "* event_id\n",
        "* artist_id\n",
        "* location_id\n",
        "* start_date\n",
        "* attendance\n",
        "* average_ticket_price\n",
        "\n",
        "The *location_id* column encodes additional information about the locations in the ID itself, following one of two schemas.\n",
        "* LOC-[Type][Capacity][State]-[ID]\n",
        "* LOC-[Type][Capacity][State]-[Ownership Flag]-[ID]\n",
        "For example, the location ID LOC-Arena20000FL-8521e4fd-672c represents a non-client owned Arena with a capacity of 20000 in Florida, while the location ID LOC-Arena100000CA-Own-8521e4fd-672c represents as a client owned Arena with a capacity of 100000 in California.\n",
        "\n",
        "## Data Ingestion\n",
        "The cell below starts with import statement that imports *pandas* and *numpy* Python modules that are used in many cells in this analysis.\n",
        "The rows with null values are deleted in the following cell to simplify this analysis.\n"
      ],
      "metadata": {
        "id": "BbvmNEquF0ai"
      }
    },
    {
      "cell_type": "code",
      "execution_count": 18,
      "metadata": {
        "colab": {
          "base_uri": "https://localhost:8080/"
        },
        "id": "GW1bPXtBFnEW",
        "outputId": "766fada3-79b1-448b-a636-7b79cafb62ab"
      },
      "outputs": [
        {
          "output_type": "stream",
          "name": "stdout",
          "text": [
            "            event_id          artist_id                         location_id  \\\n",
            "0  EVT-3adca30d-b5ea  ART-4de1a19c-0779      LOC-Arena16800OH-621a3f60-24c0   \n",
            "1  EVT-bc114a58-3eaf  ART-4de1a19c-0779  LOC-Arena15200NY-Own-334a8797-8708   \n",
            "2  EVT-78a9775c-5eee  ART-4de1a19c-0779  LOC-Arena15200NY-Own-334a8797-8708   \n",
            "3  EVT-cf249300-7259  ART-4de1a19c-0779  LOC-Arena15200NY-Own-334a8797-8708   \n",
            "4  EVT-54753efb-60ca  ART-4de1a19c-0779  LOC-Arena14400OK-Own-226f9270-4eb6   \n",
            "\n",
            "  start_date  attendance  average_ticket_price  \n",
            "0     1/2/14       10542                 41.45  \n",
            "1    1/11/14       11390                 57.35  \n",
            "2    8/29/14       11482                 57.36  \n",
            "3    2/15/17         152                 59.63  \n",
            "4    1/17/14        9513                 42.79  \n"
          ]
        }
      ],
      "source": [
        "import pandas as pd\n",
        "import numpy as np\n",
        "\n",
        "df = pd.read_csv('music_concert.csv')\n",
        "df = df.dropna()\n",
        "print(df.head())"
      ]
    },
    {
      "cell_type": "markdown",
      "source": [
        "## Surface Additional Features\n",
        "\n",
        "The following cell translates the location IDs into the location type, capacity, ownership type, and state. And the estimated total revenue is calculated by multiplying attendance with average ticket price.\n",
        "\n",
        "*location_capacity* is converted to float so it can be aggregated later in this analysis.\n"
      ],
      "metadata": {
        "id": "OydduA3aJuXW"
      }
    },
    {
      "cell_type": "code",
      "source": [
        "location_detail = df['location_id'].str.split('-', expand=True)\n",
        "df[['location_type', 'location_capacity', 'state']] \\\n",
        "  = location_detail[1].str.extract(r'(\\D+)(\\d+)(\\D+)')\n",
        "df['client_owned_location'] = df['location_id'].str.contains('-Own-')\n",
        "df['total_revenue'] = df['attendance'] * df['average_ticket_price']\n",
        "df['location_capacity'] = df['location_capacity'].astype(float)\n",
        "print(df.head())"
      ],
      "metadata": {
        "colab": {
          "base_uri": "https://localhost:8080/"
        },
        "id": "JYEYBTfWKB1g",
        "outputId": "fe229063-7cdd-437d-c30d-223f49669571"
      },
      "execution_count": 20,
      "outputs": [
        {
          "output_type": "stream",
          "name": "stdout",
          "text": [
            "            event_id          artist_id                         location_id  \\\n",
            "0  EVT-3adca30d-b5ea  ART-4de1a19c-0779      LOC-Arena16800OH-621a3f60-24c0   \n",
            "1  EVT-bc114a58-3eaf  ART-4de1a19c-0779  LOC-Arena15200NY-Own-334a8797-8708   \n",
            "2  EVT-78a9775c-5eee  ART-4de1a19c-0779  LOC-Arena15200NY-Own-334a8797-8708   \n",
            "3  EVT-cf249300-7259  ART-4de1a19c-0779  LOC-Arena15200NY-Own-334a8797-8708   \n",
            "4  EVT-54753efb-60ca  ART-4de1a19c-0779  LOC-Arena14400OK-Own-226f9270-4eb6   \n",
            "\n",
            "  start_date  attendance  average_ticket_price location_type  \\\n",
            "0     1/2/14       10542                 41.45         Arena   \n",
            "1    1/11/14       11390                 57.35         Arena   \n",
            "2    8/29/14       11482                 57.36         Arena   \n",
            "3    2/15/17         152                 59.63         Arena   \n",
            "4    1/17/14        9513                 42.79         Arena   \n",
            "\n",
            "   location_capacity state  client_owned_location  total_revenue  \n",
            "0            16800.0    OH                  False      436965.90  \n",
            "1            15200.0    NY                   True      653216.50  \n",
            "2            15200.0    NY                   True      658607.52  \n",
            "3            15200.0    NY                   True        9063.76  \n",
            "4            14400.0    OK                   True      407061.27  \n"
          ]
        }
      ]
    },
    {
      "cell_type": "markdown",
      "source": [
        "## Calculate Statistics for the Numerical Fields\n",
        "The following cell runs the *describe* function to show the statistics of the numerical fields in the data set. These statistics can be used to find abnormally low or high values in the data."
      ],
      "metadata": {
        "id": "lffLcANZPrqR"
      }
    },
    {
      "cell_type": "code",
      "source": [
        "print(df['attendance'].describe())\n",
        "print(df['average_ticket_price'].describe())\n",
        "print(df['location_capacity'].astype(float).describe())"
      ],
      "metadata": {
        "colab": {
          "base_uri": "https://localhost:8080/"
        },
        "id": "ZtYLJfCw7c5D",
        "outputId": "398d99ec-9753-499d-a876-5cfd07123869"
      },
      "execution_count": null,
      "outputs": [
        {
          "output_type": "stream",
          "name": "stdout",
          "text": [
            "count      286.000000\n",
            "mean     12667.751748\n",
            "std       6657.886107\n",
            "min        116.000000\n",
            "25%       8564.500000\n",
            "50%      11921.500000\n",
            "75%      14912.250000\n",
            "max      52800.000000\n",
            "Name: attendance, dtype: float64\n",
            "count    286.000000\n",
            "mean      45.816643\n",
            "std       12.893347\n",
            "min       23.610000\n",
            "25%       35.397500\n",
            "50%       43.525000\n",
            "75%       55.525000\n",
            "max       88.180000\n",
            "Name: average_ticket_price, dtype: float64\n",
            "count      286.000000\n",
            "mean     17101.346154\n",
            "std       9015.509408\n",
            "min       1040.000000\n",
            "25%      13000.000000\n",
            "50%      15960.000000\n",
            "75%      16800.000000\n",
            "max      60900.000000\n",
            "Name: location_capacity, dtype: float64\n"
          ]
        }
      ]
    },
    {
      "cell_type": "markdown",
      "source": [
        "## Attendance and Average Ticket Price by Location Type\n",
        "The following cells calculate the average attendance and the average ticket price by location type. This helps understand the differences between the location types."
      ],
      "metadata": {
        "id": "9aXdpL5DK4Ul"
      }
    },
    {
      "cell_type": "code",
      "source": [
        "df.groupby(['location_type'])['attendance'].mean()"
      ],
      "metadata": {
        "colab": {
          "base_uri": "https://localhost:8080/"
        },
        "id": "wGTKHx5TLHgh",
        "outputId": "0a19e560-8662-4de5-cde4-c52f720506db"
      },
      "execution_count": null,
      "outputs": [
        {
          "output_type": "execute_result",
          "data": {
            "text/plain": [
              "location_type\n",
              "Amphitheatre    12983.630952\n",
              "Arena            8028.244681\n",
              "Club              481.000000\n",
              "Stadium         29851.782609\n",
              "Name: attendance, dtype: float64"
            ]
          },
          "metadata": {},
          "execution_count": 4
        }
      ]
    },
    {
      "cell_type": "code",
      "source": [
        "df.groupby(['location_type'])['average_ticket_price'].mean()"
      ],
      "metadata": {
        "colab": {
          "base_uri": "https://localhost:8080/"
        },
        "id": "9S7vAW8ZLXn0",
        "outputId": "7df60e03-6056-4b45-e969-95d0b825b4c0"
      },
      "execution_count": null,
      "outputs": [
        {
          "output_type": "execute_result",
          "data": {
            "text/plain": [
              "location_type\n",
              "Amphitheatre    38.410952\n",
              "Arena           54.830319\n",
              "Club            38.800000\n",
              "Stadium         63.376957\n",
              "Name: average_ticket_price, dtype: float64"
            ]
          },
          "metadata": {},
          "execution_count": 5
        }
      ]
    },
    {
      "cell_type": "markdown",
      "source": [
        "## More Statistics on Attendance and Average Ticket Price by Location Type\n",
        "\n",
        "The following cells calculate the row count, average, standard deviation, variance, median, minimum, and maximum of the attendance and the average ticket price by location type."
      ],
      "metadata": {
        "id": "IRhcq1-NMJAL"
      }
    },
    {
      "cell_type": "code",
      "source": [
        "aggs_attendance = df.groupby('location_type')['attendance']\\\n",
        "  .agg([np.size, np.mean, np.std, np.var, np.median, np.min, np.max])\n",
        "print(aggs_attendance)"
      ],
      "metadata": {
        "colab": {
          "base_uri": "https://localhost:8080/"
        },
        "id": "KFy8mt1xMJ52",
        "outputId": "11f5cac7-7b08-4036-b246-cf2362dc3994"
      },
      "execution_count": null,
      "outputs": [
        {
          "output_type": "stream",
          "name": "stdout",
          "text": [
            "               size          mean          std           var   median   amin  \\\n",
            "location_type                                                                  \n",
            "Amphitheatre    168  12983.630952  3071.720881  9.435469e+06  13220.0   5642   \n",
            "Arena            94   8028.244681  2451.822187  6.011432e+06   7826.5    116   \n",
            "Club              1    481.000000          NaN           NaN    481.0    481   \n",
            "Stadium          23  29851.782609  8307.205437  6.900966e+07  29450.0  17360   \n",
            "\n",
            "                amax  \n",
            "location_type         \n",
            "Amphitheatre   20401  \n",
            "Arena          14910  \n",
            "Club             481  \n",
            "Stadium        52800  \n"
          ]
        }
      ]
    },
    {
      "cell_type": "code",
      "source": [
        "aggs_average_ticket_price = df.groupby('location_type')['average_ticket_price']\\\n",
        "  .agg([np.size, np.mean, np.std, np.var, np.median, np.min, np.max])\n",
        "print(aggs_average_ticket_price)"
      ],
      "metadata": {
        "colab": {
          "base_uri": "https://localhost:8080/"
        },
        "id": "idaZK_d8MaDc",
        "outputId": "54ba5f31-73b8-42c8-ce18-cc76dada7489"
      },
      "execution_count": null,
      "outputs": [
        {
          "output_type": "stream",
          "name": "stdout",
          "text": [
            "               size       mean       std        var  median   amin   amax\n",
            "location_type                                                            \n",
            "Amphitheatre    168  38.410952  9.674380  93.593635  36.590  23.61  78.81\n",
            "Arena            94  54.830319  7.885108  62.174924  54.445  32.20  73.87\n",
            "Club              1  38.800000       NaN        NaN  38.800  38.80  38.80\n",
            "Stadium          23  63.376957  9.469868  89.678395  62.450  46.08  88.18\n"
          ]
        }
      ]
    },
    {
      "cell_type": "markdown",
      "source": [
        "## Attendance by State\n",
        "The following cell calculates the same attendance statistics by state, and sorted by attendance in descending order."
      ],
      "metadata": {
        "id": "smH8JQw_Mq9L"
      }
    },
    {
      "cell_type": "code",
      "source": [
        "aggs_attendance = df.groupby('state')['attendance']\\\n",
        "  .agg([np.size, np.mean, np.std, np.var, np.median, np.min, np.max])\n",
        "aggs_attendance.sort_values(by=['mean'], inplace=True, ascending=False)\n",
        "print(aggs_attendance)"
      ],
      "metadata": {
        "colab": {
          "base_uri": "https://localhost:8080/"
        },
        "id": "Libdo6rUMyvC",
        "outputId": "0221a014-af57-43c1-a6f7-efc436c29e82"
      },
      "execution_count": null,
      "outputs": [
        {
          "output_type": "stream",
          "name": "stdout",
          "text": [
            "       size          mean           std           var   median   amin   amax\n",
            "state                                                                       \n",
            "CO        2  37996.000000    913.581961  8.346320e+05  37996.0  37350  38642\n",
            "MN        3  31800.333333   4834.813578  2.337542e+07  32062.0  26840  36499\n",
            "PA       14  19859.285714  11014.894150  1.213279e+08  17020.5   6603  52800\n",
            "MI        3  19561.000000  11206.509671  1.255859e+08  19578.0   8346  30759\n",
            "CT        1  18522.000000           NaN           NaN  18522.0  18522  18522\n",
            "ON        6  16390.333333   8345.540670  6.964805e+07  12383.5  11448  32846\n",
            "OH       23  14825.000000   4086.402619  1.669869e+07  15662.0   5892  29450\n",
            "BC        3  14609.000000   9335.638543  8.715415e+07  11311.0   7370  25146\n",
            "NJ       18  14329.611111   5497.386290  3.022126e+07  13255.0   9311  34486\n",
            "WA        4  13733.750000   3728.988815  1.390536e+07  13458.0   9697  18322\n",
            "VA       25  13223.520000   3331.294870  1.109753e+07  14666.0   7117  17626\n",
            "MA        1  13006.000000           NaN           NaN  13006.0  13006  13006\n",
            "CA       30  12777.300000   5884.322544  3.462525e+07  11424.5   6758  34360\n",
            "TN        4  12585.250000   7915.237641  6.265099e+07  10491.5   5449  23909\n",
            "AZ        6  12582.000000   3090.821315  9.553176e+06  13408.0   6455  14809\n",
            "NC       11  12262.818182   3182.642638  1.012921e+07  12623.0   5427  15717\n",
            "IL       12  11988.750000   9521.159871  9.065249e+07   9097.5   5930  40422\n",
            "FL       19  11907.210526   5698.829691  3.247666e+07  12505.0   4602  31200\n",
            "KY        3  11854.333333   2520.837625  6.354622e+06  12266.0   9153  14144\n",
            "KS        2  11687.000000   3098.541915  9.600962e+06  11687.0   9496  13878\n",
            "NY       20  11563.350000   5081.934032  2.582605e+07  11436.0    152  19707\n",
            "MO        2  11381.000000   2610.638236  6.815432e+06  11381.0   9535  13227\n",
            "GA       10  11284.100000   4584.678941  2.101928e+07  10902.0   4480  19262\n",
            "TX       16   9952.000000   3392.369948  1.150817e+07   9346.0   4563  17600\n",
            "NE        5   9592.400000   1891.479395  3.577694e+06   9202.0   7105  11770\n",
            "OR        1   9525.000000           NaN           NaN   9525.0   9525   9525\n",
            "MD        1   9435.000000           NaN           NaN   9435.0   9435   9435\n",
            "ME        4   8563.750000   1935.156217  3.744830e+06   8747.5   6264  10496\n",
            "NM        1   8236.000000           NaN           NaN   8236.0   8236   8236\n",
            "AR        2   8122.000000   3190.465797  1.017907e+07   8122.0   5866  10378\n",
            "LA        7   7958.142857   1259.962755  1.587506e+06   7327.0   6353   9834\n",
            "SD        2   7684.000000    265.872150  7.068800e+04   7684.0   7496   7872\n",
            "SC        3   7585.666667   1551.485847  2.407108e+06   7714.0   5974   9069\n",
            "OK        6   7287.166667   2406.348555  5.790513e+06   7295.5   4682  10115\n",
            "NH        6   6556.833333    317.497349  1.008046e+05   6470.0   6260   6994\n",
            "AL        2   6369.000000    951.765727  9.058580e+05   6369.0   5696   7042\n",
            "IN        3   6287.333333    981.195869  9.627453e+05   6800.0   5156   6906\n",
            "WV        3   6021.333333   1088.391627  1.184596e+06   5674.0   5149   7241\n",
            "ND        1   5226.000000           NaN           NaN   5226.0   5226   5226\n",
            "RI        1    116.000000           NaN           NaN    116.0    116    116\n"
          ]
        }
      ]
    },
    {
      "cell_type": "markdown",
      "source": [
        "## Revenue by State\n",
        "The following section calculates the total revenue statistics by state, and sorted by attendance in descending order."
      ],
      "metadata": {
        "id": "BaiJsYLfNMJH"
      }
    },
    {
      "cell_type": "code",
      "source": [
        "aggs_total_revenue = df.groupby('state')['total_revenue']\\\n",
        "  .agg([np.mean, np.std, np.var, np.median, np.min, np.max])\n",
        "aggs_total_revenue.sort_values(by=['mean'], inplace=True, ascending=False)\n",
        "print(aggs_total_revenue)"
      ],
      "metadata": {
        "colab": {
          "base_uri": "https://localhost:8080/"
        },
        "id": "QwN7KFQPNLoM",
        "outputId": "77002a82-85dc-419b-d144-e8db25bf5998"
      },
      "execution_count": null,
      "outputs": [
        {
          "output_type": "stream",
          "name": "stdout",
          "text": [
            "               mean            std           var       median        amin  \\\n",
            "state                                                                       \n",
            "MN     2.247079e+06  540121.559804  2.917313e+11  2228629.620  1716418.00   \n",
            "CO     2.163479e+06   50944.667706  2.595359e+09  2163479.320  2127456.00   \n",
            "MI     1.279677e+06  885025.269147  7.832697e+11  1220492.520   425729.46   \n",
            "BC     1.064139e+06  999228.661063  9.984579e+11   519061.790   455981.90   \n",
            "ON     1.022657e+06  738336.373509  5.451406e+11   700431.965   561836.73   \n",
            "PA     8.290438e+05  660619.397236  4.364180e+11   533079.990   227935.56   \n",
            "TN     7.644420e+05  586667.271113  3.441785e+11   555141.935   331953.08   \n",
            "MA     7.110380e+05            NaN           NaN   711038.020   711038.02   \n",
            "WA     6.979959e+05  273337.928986  7.471362e+10   707589.960   354619.29   \n",
            "NJ     6.790318e+05  394676.063258  1.557692e+11   604938.400   441015.60   \n",
            "CT     6.201166e+05            NaN           NaN   620116.560   620116.56   \n",
            "IL     6.052926e+05  573597.497792  3.290141e+11   456093.840   302430.00   \n",
            "CA     6.013824e+05  416376.586168  1.733695e+11   497391.330   259080.54   \n",
            "KY     5.422807e+05   75402.472099  5.685533e+09   580304.460   455436.80   \n",
            "OR     5.324475e+05            NaN           NaN   532447.500   532447.50   \n",
            "NY     5.284819e+05  210665.370867  4.437990e+10   555294.660     9063.76   \n",
            "OH     5.258273e+05  282666.279335  7.990023e+10   470793.120   322999.44   \n",
            "AZ     5.055935e+05   95013.403594  9.027547e+09   529485.510   333594.40   \n",
            "MD     5.051499e+05            NaN           NaN   505149.900   505149.90   \n",
            "FL     5.004468e+05  294993.830092  8.702136e+10   462313.800   249428.40   \n",
            "NE     4.925593e+05   86484.864850  7.479632e+09   463306.000   425731.60   \n",
            "VA     4.792966e+05  102376.671686  1.048098e+10   491267.700   299072.56   \n",
            "LA     4.633516e+05   50301.664246  2.530257e+09   440475.840   414660.31   \n",
            "GA     4.527922e+05  251410.859684  6.320742e+10   414599.570   229286.40   \n",
            "NM     4.253894e+05            NaN           NaN   425389.400   425389.40   \n",
            "AR     4.195623e+05  151932.484398  2.308348e+10   419562.350   312129.86   \n",
            "SD     4.153704e+05   27114.264083  7.351833e+08   415370.440   396197.76   \n",
            "ME     4.071496e+05  101237.601009  1.024905e+10   402538.880   296412.48   \n",
            "TX     4.064064e+05  116218.963431  1.350685e+10   412038.800   220986.09   \n",
            "KS     4.022934e+05   42631.637543  1.817457e+09   402293.360   372148.24   \n",
            "SC     4.013671e+05   42905.612185  1.840892e+09   379229.520   374051.86   \n",
            "NC     3.931270e+05   65100.264369  4.238044e+09   414368.640   271892.24   \n",
            "OK     3.818229e+05  105028.323858  1.103095e+10   370710.230   265188.48   \n",
            "MO     3.811532e+05   48330.147453  2.335803e+09   381153.225   346978.65   \n",
            "WV     3.703866e+05   72352.232553  5.234846e+09   411071.570   286850.79   \n",
            "NH     3.641137e+05   29297.508279  8.583440e+08   361417.635   318856.46   \n",
            "IN     3.513437e+05   21949.391322  4.817758e+08   345921.540   332613.56   \n",
            "AL     2.832560e+05     958.044836  9.178499e+05   283256.000   282578.56   \n",
            "ND     2.317731e+05            NaN           NaN   231773.100   231773.10   \n",
            "RI     6.124800e+03            NaN           NaN     6124.800     6124.80   \n",
            "\n",
            "             amax  \n",
            "state              \n",
            "MN     2796188.39  \n",
            "CO     2199502.64  \n",
            "MI     2192809.11  \n",
            "BC     2217374.28  \n",
            "ON     2483814.52  \n",
            "PA     2547072.00  \n",
            "TN     1615531.13  \n",
            "MA      711038.02  \n",
            "WA     1022184.38  \n",
            "NJ     2222967.56  \n",
            "CT      620116.56  \n",
            "IL     2402683.68  \n",
            "CA     2148187.20  \n",
            "KY      591100.74  \n",
            "OR      532447.50  \n",
            "NY      851463.24  \n",
            "OH     1770534.00  \n",
            "AZ      599617.70  \n",
            "MD      505149.90  \n",
            "FL     1650480.00  \n",
            "NE      641347.30  \n",
            "VA      729017.62  \n",
            "LA      541245.49  \n",
            "GA     1117196.00  \n",
            "NM      425389.40  \n",
            "AR      526994.84  \n",
            "SD      434543.12  \n",
            "ME      527108.04  \n",
            "TX      737616.00  \n",
            "KS      432438.48  \n",
            "SC      450819.99  \n",
            "NC      480737.27  \n",
            "OK      550256.00  \n",
            "MO      415327.80  \n",
            "WV      413237.42  \n",
            "NH      408730.08  \n",
            "IN      375496.00  \n",
            "AL      283933.44  \n",
            "ND      231773.10  \n",
            "RI        6124.80  \n"
          ]
        }
      ]
    },
    {
      "cell_type": "markdown",
      "source": [
        "## First Regression Model\n",
        "The following cell uses the *statsmodels* module to create a regression model based on the input data.\n",
        "The response variable is the *attendance*, and the following are the features.\n",
        "* average_ticket_price\n",
        "* location_type\n",
        "* location_capacity\n",
        "* state\n",
        "* client_owned_location\n",
        "\n",
        "The adjusted R-squared value is high and indicates good goodness-of-fit. Even though the features explain the response, we can see that there are high *p-values*, especially for some states, that suggest that the model can perform relatively well without some of the features.\n",
        "\n",
        "The validation (test) data is 20% of the aggregate bucket data set. At the end of the cell, sklearn modules is used to compare the predicted and observed values and produces the mean-squared error and R-squared values."
      ],
      "metadata": {
        "id": "VoHEx914TzqU"
      }
    },
    {
      "cell_type": "code",
      "source": [
        "import statsmodels.formula.api as smf\n",
        "from sklearn.model_selection import train_test_split\n",
        "from sklearn.metrics import mean_squared_error, r2_score\n",
        "\n",
        "training, validation = train_test_split(df, test_size=0.2)\n",
        "\n",
        "model = smf.ols(formula='attendance ~ \\\n",
        "  average_ticket_price + \\\n",
        "  location_type + \\\n",
        "  location_capacity + \\\n",
        "  state + \\\n",
        "  client_owned_location', data=training)\n",
        "result = model.fit()\n",
        "print(result.summary())\n",
        "\n",
        "validation_prediction = result.predict(validation)\n",
        "observed_response = validation['attendance']\n",
        "\n",
        "mse = mean_squared_error(observed_response, validation_prediction)\n",
        "r2 = r2_score(observed_response, validation_prediction)\n",
        "\n",
        "print('Validation MSE: ', mse)\n",
        "print('Validation R-squared: ', r2)"
      ],
      "metadata": {
        "colab": {
          "base_uri": "https://localhost:8080/"
        },
        "id": "7gcepSF0R4Ds",
        "outputId": "8ed756bd-1bf0-449a-b9a1-0d7b51fb7325"
      },
      "execution_count": 22,
      "outputs": [
        {
          "output_type": "stream",
          "name": "stdout",
          "text": [
            "                            OLS Regression Results                            \n",
            "==============================================================================\n",
            "Dep. Variable:             attendance   R-squared:                       0.868\n",
            "Model:                            OLS   Adj. R-squared:                  0.835\n",
            "Method:                 Least Squares   F-statistic:                     26.51\n",
            "Date:                Wed, 31 May 2023   Prob (F-statistic):           3.81e-59\n",
            "Time:                        20:56:02   Log-Likelihood:                -2091.1\n",
            "No. Observations:                 228   AIC:                             4274.\n",
            "Df Residuals:                     182   BIC:                             4432.\n",
            "Df Model:                          45                                         \n",
            "Covariance Type:            nonrobust                                         \n",
            "=================================================================================================\n",
            "                                    coef    std err          t      P>|t|      [0.025      0.975]\n",
            "-------------------------------------------------------------------------------------------------\n",
            "Intercept                      4510.4473   3046.204      1.481      0.140   -1499.968    1.05e+04\n",
            "location_type[T.Arena]        -1799.0773    607.836     -2.960      0.003   -2998.389    -599.765\n",
            "location_type[T.Club]         -4526.1177   2904.510     -1.558      0.121   -1.03e+04    1204.724\n",
            "location_type[T.Stadium]       3299.0509   2157.437      1.529      0.128    -957.754    7555.856\n",
            "state[T.AR]                     679.9128   3281.710      0.207      0.836   -5795.178    7155.003\n",
            "state[T.AZ]                    3792.9415   2946.699      1.287      0.200   -2021.143    9607.026\n",
            "state[T.BC]                     371.2338   3129.717      0.119      0.906   -5803.962    6546.429\n",
            "state[T.CA]                    1845.5137   2720.679      0.678      0.498   -3522.615    7213.643\n",
            "state[T.CO]                    -257.2395   4235.956     -0.061      0.952   -8615.136    8100.657\n",
            "state[T.CT]                    4912.3139   3759.196      1.307      0.193   -2504.896    1.23e+04\n",
            "state[T.FL]                    2040.8176   2745.181      0.743      0.458   -3375.655    7457.290\n",
            "state[T.GA]                    1042.5900   2864.836      0.364      0.716   -4609.972    6695.152\n",
            "state[T.IL]                    1574.3941   2836.731      0.555      0.580   -4022.715    7171.503\n",
            "state[T.IN]                    3537.7205   3241.570      1.091      0.277   -2858.169    9933.610\n",
            "state[T.KS]                    1372.8662   3283.993      0.418      0.676   -5106.728    7852.461\n",
            "state[T.KY]                    3311.1316   3309.979      1.000      0.318   -3219.736    9841.999\n",
            "state[T.LA]                    1793.2234   2953.934      0.607      0.545   -4035.136    7621.583\n",
            "state[T.MA]                    4202.9302   3750.337      1.121      0.264   -3196.801    1.16e+04\n",
            "state[T.MD]                    5175.8902   3774.202      1.371      0.172   -2270.927    1.26e+04\n",
            "state[T.ME]                   -1201.2230   3200.493     -0.375      0.708   -7516.064    5113.618\n",
            "state[T.MI]                    5547.0365   3268.464      1.697      0.091    -901.918     1.2e+04\n",
            "state[T.MN]                    6735.6788   3175.198      2.121      0.035     470.746     1.3e+04\n",
            "state[T.MO]                     301.8190   3233.375      0.093      0.926   -6077.903    6681.541\n",
            "state[T.NC]                    1043.3122   2821.181      0.370      0.712   -4523.114    6609.739\n",
            "state[T.ND]                    1047.0213   3748.343      0.279      0.780   -6348.775    8442.818\n",
            "state[T.NE]                    3163.0282   2996.205      1.056      0.293   -2748.737    9074.793\n",
            "state[T.NH]                    3152.8052   3036.813      1.038      0.301   -2839.083    9144.693\n",
            "state[T.NJ]                    3773.1989   2725.529      1.384      0.168   -1604.498    9150.896\n",
            "state[T.NM]                    2974.2191   3738.126      0.796      0.427   -4401.418    1.03e+04\n",
            "state[T.NY]                    2785.1263   2738.888      1.017      0.311   -2618.930    8189.183\n",
            "state[T.OH]                    2545.9704   2737.410      0.930      0.354   -2855.169    7947.110\n",
            "state[T.OK]                     509.0358   2917.257      0.174      0.862   -5246.958    6265.029\n",
            "state[T.ON]                    3607.1775   2914.544      1.238      0.217   -2143.462    9357.817\n",
            "state[T.OR]                    2085.7499   3805.341      0.548      0.584   -5422.508    9594.008\n",
            "state[T.PA]                    3888.8979   2825.171      1.377      0.170   -1685.401    9463.197\n",
            "state[T.RI]                   -4438.4511   3776.840     -1.175      0.241   -1.19e+04    3013.571\n",
            "state[T.SC]                     353.0808   3750.685      0.094      0.925   -7047.336    7753.498\n",
            "state[T.SD]                    3379.9879   3727.356      0.907      0.366   -3974.399    1.07e+04\n",
            "state[T.TN]                    1113.9501   3282.235      0.339      0.735   -5362.175    7590.076\n",
            "state[T.TX]                      81.5102   2749.365      0.030      0.976   -5343.218    5506.238\n",
            "state[T.VA]                    1423.2642   2740.435      0.519      0.604   -3983.844    6830.372\n",
            "state[T.WA]                    -636.1183   2981.018     -0.213      0.831   -6517.917    5245.681\n",
            "state[T.WV]                    2270.4467   3059.630      0.742      0.459   -3766.461    8307.354\n",
            "client_owned_location[T.True] -1148.5913    601.694     -1.909      0.058   -2335.783      38.601\n",
            "average_ticket_price            -75.0502     26.301     -2.853      0.005    -126.945     -23.155\n",
            "location_capacity                 0.5995      0.068      8.755      0.000       0.464       0.735\n",
            "==============================================================================\n",
            "Omnibus:                       76.826   Durbin-Watson:                   2.031\n",
            "Prob(Omnibus):                  0.000   Jarque-Bera (JB):              949.128\n",
            "Skew:                           0.904   Prob(JB):                    7.94e-207\n",
            "Kurtosis:                      12.831   Cond. No.                     1.80e+06\n",
            "==============================================================================\n",
            "\n",
            "Notes:\n",
            "[1] Standard Errors assume that the covariance matrix of the errors is correctly specified.\n",
            "[2] The condition number is large, 1.8e+06. This might indicate that there are\n",
            "strong multicollinearity or other numerical problems.\n",
            "MSE:  16211879.507521633\n",
            "R-squared:  0.7128532728490211\n"
          ]
        }
      ]
    },
    {
      "cell_type": "markdown",
      "source": [
        "## Suggestions from An Expert\n",
        "[Dr. Vincent Granville](https://mltechniques.com/author/) helped improve this analysis by suggesting the following actions.\n",
        "* Create a scatter plot to compare the predicted and observed values. This visualization helps with understanding how the model performs.\n",
        "* Compute the correlation matrix between features, and between response and features. Very high correlation between two independent features  lead to potentially meaningless correlation coefficients for these two features, and again close to getting a singular matrix.\n",
        "* Create aggregate buckets using the categorical features. This will combine features with high p-value and reduce the noise that are seen in the event-level statistics.\n",
        "* Exclude features with high p-value. P-values attached to the various states tell you that the corresponding regression coefficients are not useful.\n",
        "\n",
        "## Scatter Plot Compares Predicted and Observed Values\n",
        "The following cell shows how a scatter plot helps compare the predicted and observed values. The difference between the predicted and observed values gets bigger when attendance is higher than 20,000."
      ],
      "metadata": {
        "id": "28o2Q9LWVaQV"
      }
    },
    {
      "cell_type": "code",
      "source": [
        "import matplotlib.pyplot as plt\n",
        "\n",
        "observed_values = result.fittedvalues + result.resid\n",
        "\n",
        "fig, ax = plt.subplots()\n",
        "ax.scatter(result.fittedvalues, observed_values)\n",
        "ax.set_xlabel('Predicted')\n",
        "ax.set_ylabel('Observed')\n",
        "\n",
        "x = result.fittedvalues\n",
        "y = observed_values\n",
        "z = np.polyfit(x, y, 1)\n",
        "p = np.poly1d(z)\n",
        "\n",
        "plt.scatter(x, y)\n",
        "plt.plot(x, p(x), 'gray')\n",
        "\n",
        "plt.show()"
      ],
      "metadata": {
        "colab": {
          "base_uri": "https://localhost:8080/",
          "height": 449
        },
        "id": "he7foIe7HEiy",
        "outputId": "820425bf-0668-4c21-e703-1d78f19f4b34"
      },
      "execution_count": null,
      "outputs": [
        {
          "output_type": "display_data",
          "data": {
            "text/plain": [
              "<Figure size 640x480 with 1 Axes>"
            ],
            "image/png": "[encoded data removed]"
          },
          "metadata": {}
        }
      ]
    },
    {
      "cell_type": "markdown",
      "source": [
        "## Correlation Matrix\n",
        "How do the features and response are correlated to each other?\n",
        "The following heatmap chart shows the correlation between the features, and between the response and features. The attendance is highly correlated with the location capacity, confirming that the bigger the capacity is the higher the attendance might be.\n",
        "There is a negative correlation between average ticket price and attendance, which suggest raising ticket price might lower the attendance."
      ],
      "metadata": {
        "id": "O8Ey2eQBYyVW"
      }
    },
    {
      "cell_type": "code",
      "source": [
        "import seaborn as sns\n",
        "\n",
        "corr_matrix = df.corr(numeric_only='False')\n",
        "print(corr_matrix)\n",
        "sns.heatmap(corr_matrix, annot=True)"
      ],
      "metadata": {
        "colab": {
          "base_uri": "https://localhost:8080/",
          "height": 818
        },
        "id": "0nwZ-4okInR-",
        "outputId": "3036b173-1314-4dbe-94de-1cd74c72d70a"
      },
      "execution_count": null,
      "outputs": [
        {
          "output_type": "stream",
          "name": "stdout",
          "text": [
            "                       attendance  average_ticket_price  location_capacity  \\\n",
            "attendance               1.000000             -0.024045           0.863034   \n",
            "average_ticket_price    -0.024045              1.000000           0.182336   \n",
            "location_capacity        0.863034              0.182336           1.000000   \n",
            "client_owned_location   -0.028738              0.166596           0.076118   \n",
            "total_revenue            0.877413              0.425942           0.868366   \n",
            "\n",
            "                       client_owned_location  total_revenue  \n",
            "attendance                         -0.028738       0.877413  \n",
            "average_ticket_price                0.166596       0.425942  \n",
            "location_capacity                   0.076118       0.868366  \n",
            "client_owned_location               1.000000       0.055164  \n",
            "total_revenue                       0.055164       1.000000  \n"
          ]
        },
        {
          "output_type": "execute_result",
          "data": {
            "text/plain": [
              "<Axes: >"
            ]
          },
          "metadata": {},
          "execution_count": 12
        },
        {
          "output_type": "display_data",
          "data": {
            "text/plain": [
              "<Figure size 640x480 with 2 Axes>"
            ],
            "image/png": "[encoded data removed]"
          },
          "metadata": {}
        }
      ]
    },
    {
      "cell_type": "markdown",
      "source": [
        "## Aggregate Buckets\n",
        "The following cell transforms the original data set into an aggregated one. Using the categorical features (location_type, state, client_owned_location), average the numerical fields (attendance, average_ticket_price, location_capacity, total_revenue).\n",
        "The *aggregate_bucket* contains all the possible combinations of the categorical features."
      ],
      "metadata": {
        "id": "j05w5IwwZt0p"
      }
    },
    {
      "cell_type": "code",
      "source": [
        "new_data = df\n",
        "new_data.drop(['event_id', 'artist_id', 'location_id', 'start_date'], axis=1)\n",
        "##print(new_data.info())\n",
        "grouped_new = new_data.groupby(['location_type', 'state', 'client_owned_location'])\\\n",
        "  .apply(lambda x: x[['attendance', 'average_ticket_price', 'location_capacity', \\\n",
        "                      'total_revenue']].mean())\n",
        "grouped_new = grouped_new.reset_index()\n",
        "\n",
        "grouped_new['aggregate_bucket'] = grouped_new[['location_type', 'state', 'client_owned_location']]\\\n",
        "  .apply(lambda x: '_'.join(x.astype(str)), axis=1)\n",
        "grouped_new.drop(['location_type', 'state', 'client_owned_location'], axis=1)\n",
        "print(grouped_new.head())\n",
        "print(grouped_new.info())"
      ],
      "metadata": {
        "colab": {
          "base_uri": "https://localhost:8080/"
        },
        "id": "d4u_Re6JMyQY",
        "outputId": "28824a3b-c4bd-4686-d136-f627158d9770"
      },
      "execution_count": 23,
      "outputs": [
        {
          "output_type": "stream",
          "name": "stdout",
          "text": [
            "  location_type state  client_owned_location  attendance  \\\n",
            "0  Amphitheatre    AL                  False      6369.0   \n",
            "1  Amphitheatre    AZ                   True     13807.4   \n",
            "2  Amphitheatre    CA                  False     12424.4   \n",
            "3  Amphitheatre    CA                   True     13413.0   \n",
            "4  Amphitheatre    CT                  False     18522.0   \n",
            "\n",
            "   average_ticket_price  location_capacity  total_revenue  \\\n",
            "0                44.965             8188.0    283256.0000   \n",
            "1                39.168            16000.0    539993.3560   \n",
            "2                39.985            15272.0    485138.7415   \n",
            "3                51.990            14400.0    697341.8700   \n",
            "4                33.480            19369.0    620116.5600   \n",
            "\n",
            "        aggregate_bucket  \n",
            "0  Amphitheatre_AL_False  \n",
            "1   Amphitheatre_AZ_True  \n",
            "2  Amphitheatre_CA_False  \n",
            "3   Amphitheatre_CA_True  \n",
            "4  Amphitheatre_CT_False  \n",
            "<class 'pandas.core.frame.DataFrame'>\n",
            "RangeIndex: 82 entries, 0 to 81\n",
            "Data columns (total 8 columns):\n",
            " #   Column                 Non-Null Count  Dtype  \n",
            "---  ------                 --------------  -----  \n",
            " 0   location_type          82 non-null     object \n",
            " 1   state                  82 non-null     object \n",
            " 2   client_owned_location  82 non-null     bool   \n",
            " 3   attendance             82 non-null     float64\n",
            " 4   average_ticket_price   82 non-null     float64\n",
            " 5   location_capacity      82 non-null     float64\n",
            " 6   total_revenue          82 non-null     float64\n",
            " 7   aggregate_bucket       82 non-null     object \n",
            "dtypes: bool(1), float64(4), object(3)\n",
            "memory usage: 4.7+ KB\n",
            "None\n"
          ]
        }
      ]
    },
    {
      "cell_type": "markdown",
      "source": [
        "## Second Regression Model\n",
        "Rebuild the regression using the new data set. The average ticket price, location type, location capacity, state, and client owned location features are the features. The adjusted R-squared value still suggest good goodness-of-fit.\n",
        "\n",
        "The validation (test) data is 20% of the aggregate bucket data set. At the end of the cell, sklearn modules is used to compare the predicted and observed values and produces the mean-squared error and R-squared values. These two statistics suggest that this model is better than the old one."
      ],
      "metadata": {
        "id": "0ni1zJn0ZO4k"
      }
    },
    {
      "cell_type": "code",
      "source": [
        "import statsmodels.formula.api as smf\n",
        "from sklearn.model_selection import train_test_split\n",
        "from sklearn.metrics import mean_squared_error, r2_score\n",
        "\n",
        "training, validation = train_test_split(grouped_new, test_size=0.2)\n",
        "\n",
        "new_model = smf.ols(formula='attendance ~ \\\n",
        "  average_ticket_price + \\\n",
        "  location_type + \\\n",
        "  location_capacity + \\\n",
        "  state + \\\n",
        "  client_owned_location', data=training)\n",
        "new_result = new_model.fit()\n",
        "print(new_result.summary())\n",
        "\n",
        "validation_prediction = result.predict(validation)\n",
        "observed_response = validation['attendance']\n",
        "\n",
        "mse = mean_squared_error(observed_response, validation_prediction)\n",
        "r2 = r2_score(observed_response, validation_prediction)\n",
        "\n",
        "print('Validation MSE: ', mse)\n",
        "print('Validation R-squared: ', r2)"
      ],
      "metadata": {
        "colab": {
          "base_uri": "https://localhost:8080/"
        },
        "id": "3lmDetuHRBgk",
        "outputId": "5272a538-f0fa-42d7-e365-d0255c5aaf75"
      },
      "execution_count": 24,
      "outputs": [
        {
          "output_type": "stream",
          "name": "stdout",
          "text": [
            "                            OLS Regression Results                            \n",
            "==============================================================================\n",
            "Dep. Variable:             attendance   R-squared:                       0.971\n",
            "Model:                            OLS   Adj. R-squared:                  0.914\n",
            "Method:                 Least Squares   F-statistic:                     17.27\n",
            "Date:                Wed, 31 May 2023   Prob (F-statistic):           7.08e-10\n",
            "Time:                        20:57:38   Log-Likelihood:                -566.96\n",
            "No. Observations:                  65   AIC:                             1220.\n",
            "Df Residuals:                      22   BIC:                             1313.\n",
            "Df Model:                          42                                         \n",
            "Covariance Type:            nonrobust                                         \n",
            "=================================================================================================\n",
            "                                    coef    std err          t      P>|t|      [0.025      0.975]\n",
            "-------------------------------------------------------------------------------------------------\n",
            "Intercept                      1.981e+04   5662.574      3.499      0.002    8067.729    3.16e+04\n",
            "location_type[T.Arena]         1086.1767   1743.804      0.623      0.540   -2530.251    4702.604\n",
            "location_type[T.Club]         -1.167e+04   3871.100     -3.016      0.006   -1.97e+04   -3645.601\n",
            "location_type[T.Stadium]       2.534e+04   6643.529      3.814      0.001    1.16e+04    3.91e+04\n",
            "state[T.AR]                    2926.0448   3892.615      0.752      0.460   -5146.744     1.1e+04\n",
            "state[T.AZ]                    3001.8059   3382.981      0.887      0.385   -4014.067       1e+04\n",
            "state[T.BC]                    4767.7212   3970.618      1.201      0.243   -3466.836     1.3e+04\n",
            "state[T.CA]                    6768.3925   3156.705      2.144      0.043     221.788    1.33e+04\n",
            "state[T.CO]                    1.033e+04   4677.218      2.209      0.038     633.404       2e+04\n",
            "state[T.CT]                    9143.7599   3969.942      2.303      0.031     910.604    1.74e+04\n",
            "state[T.FL]                    2372.8672   3048.095      0.778      0.445   -3948.495    8694.229\n",
            "state[T.GA]                     -20.7590   3171.487     -0.007      0.995   -6598.020    6556.502\n",
            "state[T.IL]                    9546.4886   3561.721      2.680      0.014    2159.931    1.69e+04\n",
            "state[T.KS]                    1546.0418   3962.681      0.390      0.700   -6672.055    9764.138\n",
            "state[T.KY]                    4396.4560   3761.398      1.169      0.255   -3404.206    1.22e+04\n",
            "state[T.LA]                    4374.2045   3378.431      1.295      0.209   -2632.233    1.14e+04\n",
            "state[T.MA]                    8577.0177   3908.372      2.195      0.039     471.550    1.67e+04\n",
            "state[T.MD]                    3437.7586   4012.245      0.857      0.401   -4883.128    1.18e+04\n",
            "state[T.ME]                    3074.3148   3684.775      0.834      0.413   -4567.441    1.07e+04\n",
            "state[T.MI]                    1169.0963   3447.719      0.339      0.738   -5981.035    8319.228\n",
            "state[T.MN]                    8378.3745   3945.917      2.123      0.045     195.044    1.66e+04\n",
            "state[T.MO]                    1991.1699   3801.443      0.524      0.606   -5892.541    9874.880\n",
            "state[T.NC]                    2434.6860   3509.146      0.694      0.495   -4842.837    9712.208\n",
            "state[T.ND]                   -2415.4589   4035.564     -0.599      0.556   -1.08e+04    5953.788\n",
            "state[T.NE]                    4351.6285   3845.924      1.131      0.270   -3624.329    1.23e+04\n",
            "state[T.NH]                    1883.4779   3209.593      0.587      0.563   -4772.811    8539.767\n",
            "state[T.NJ]                    6767.7520   3257.895      2.077      0.050      11.292    1.35e+04\n",
            "state[T.NM]                    2821.3056   3823.360      0.738      0.468   -5107.857    1.08e+04\n",
            "state[T.NY]                    3750.1922   3400.434      1.103      0.282   -3301.875    1.08e+04\n",
            "state[T.OH]                    1800.0844   3899.573      0.462      0.649   -6287.134    9887.303\n",
            "state[T.OK]                    2000.7448   3477.566      0.575      0.571   -5211.287    9212.776\n",
            "state[T.ON]                    6238.4458   3213.543      1.941      0.065    -426.035    1.29e+04\n",
            "state[T.OR]                    4398.5127   4051.865      1.086      0.289   -4004.541    1.28e+04\n",
            "state[T.PA]                    4832.2992   4055.940      1.191      0.246   -3579.206    1.32e+04\n",
            "state[T.RI]                   -6085.3725   4029.381     -1.510      0.145   -1.44e+04    2271.051\n",
            "state[T.SD]                    2966.3315   3780.846      0.785      0.441   -4874.663    1.08e+04\n",
            "state[T.TN]                    -414.7789   4207.408     -0.099      0.922   -9140.409    8310.851\n",
            "state[T.TX]                    3069.5317   3198.735      0.960      0.348   -3564.238    9703.302\n",
            "state[T.VA]                    4386.6041   3357.722      1.306      0.205   -2576.885    1.14e+04\n",
            "state[T.WA]                    7103.2347   3428.864      2.072      0.050      -7.795    1.42e+04\n",
            "client_owned_location[T.True]  1151.8996   1092.424      1.054      0.303   -1113.649    3417.448\n",
            "average_ticket_price           -293.1281     97.875     -2.995      0.007    -496.108     -90.148\n",
            "location_capacity                -0.0320      0.156     -0.205      0.840      -0.356       0.292\n",
            "==============================================================================\n",
            "Omnibus:                       10.015   Durbin-Watson:                   1.850\n",
            "Prob(Omnibus):                  0.007   Jarque-Bera (JB):               20.768\n",
            "Skew:                          -0.327   Prob(JB):                     3.09e-05\n",
            "Kurtosis:                       5.691   Cond. No.                     1.22e+06\n",
            "==============================================================================\n",
            "\n",
            "Notes:\n",
            "[1] Standard Errors assume that the covariance matrix of the errors is correctly specified.\n",
            "[2] The condition number is large, 1.22e+06. This might indicate that there are\n",
            "strong multicollinearity or other numerical problems.\n",
            "Validation MSE:  6365261.012077281\n",
            "Validation R-squared:  0.9073693849687599\n"
          ]
        }
      ]
    },
    {
      "cell_type": "markdown",
      "source": [
        "## Second Scatter Plot\n",
        "Create the second scatter plot to compare the predicted and observed values. This scatter plot shows smaller differences between the predicted and observed values compared to the previous one."
      ],
      "metadata": {
        "id": "ZxYNEZliZT1c"
      }
    },
    {
      "cell_type": "code",
      "source": [
        "import matplotlib.pyplot as plt\n",
        "\n",
        "observed_values = new_result.fittedvalues + new_result.resid\n",
        "\n",
        "fig, ax = plt.subplots()\n",
        "ax.scatter(new_result.fittedvalues, observed_values)\n",
        "ax.set_xlabel('Predicted')\n",
        "ax.set_ylabel('Observed')\n",
        "\n",
        "x = new_result.fittedvalues\n",
        "y = observed_values\n",
        "z = np.polyfit(x, y, 1)\n",
        "p = np.poly1d(z)\n",
        "\n",
        "plt.scatter(x, y)\n",
        "plt.plot(x, p(x), 'gray')\n",
        "\n",
        "plt.show()"
      ],
      "metadata": {
        "colab": {
          "base_uri": "https://localhost:8080/",
          "height": 449
        },
        "id": "3DOu4Y2LXv9k",
        "outputId": "9ea81de7-6e1a-4d34-d1ec-8676c57362ed"
      },
      "execution_count": null,
      "outputs": [
        {
          "output_type": "display_data",
          "data": {
            "text/plain": [
              "<Figure size 640x480 with 1 Axes>"
            ],
            "image/png": "[encoded data removed]"
          },
          "metadata": {}
        }
      ]
    },
    {
      "cell_type": "code",
      "source": [
        "## Useful Functions\n",
        "\n",
        "## create input data text file\n",
        "##df.to_csv('df.csv')\n",
        "\n",
        "## create prediction and output data text file\n",
        "##prediction = new_result.predict(grouped_new)\n",
        "##prediction.to_csv('prediction.csv', index=True)\n"
      ],
      "metadata": {
        "id": "2zeP0eDAbmIw"
      },
      "execution_count": null,
      "outputs": []
    }
  ]
}